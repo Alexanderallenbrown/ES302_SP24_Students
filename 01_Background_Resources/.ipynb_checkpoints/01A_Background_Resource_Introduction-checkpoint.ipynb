{
 "cells": [
  {
   "cell_type": "markdown",
   "id": "33826df9",
   "metadata": {
    "toc": true
   },
   "source": [
    "<h1>Table of Contents<span class=\"tocSkip\"></span></h1>\n",
    "<div class=\"toc\"><ul class=\"toc-item\"><li><span><a href=\"#Background-Resources\" data-toc-modified-id=\"Background-Resources-1\"><span class=\"toc-item-num\">1&nbsp;&nbsp;</span>Background Resources</a></span><ul class=\"toc-item\"><li><span><a href=\"#Textbook\" data-toc-modified-id=\"Textbook-1.1\"><span class=\"toc-item-num\">1.1&nbsp;&nbsp;</span>Textbook</a></span></li><li><span><a href=\"#Supplemental-Resources\" data-toc-modified-id=\"Supplemental-Resources-1.2\"><span class=\"toc-item-num\">1.2&nbsp;&nbsp;</span>Supplemental Resources</a></span></li><li><span><a href=\"#Modeling-of-Physical-Systems\" data-toc-modified-id=\"Modeling-of-Physical-Systems-1.3\"><span class=\"toc-item-num\">1.3&nbsp;&nbsp;</span>Modeling of Physical Systems</a></span></li><li><span><a href=\"#Programming\" data-toc-modified-id=\"Programming-1.4\"><span class=\"toc-item-num\">1.4&nbsp;&nbsp;</span>Programming</a></span></li><li><span><a href=\"#Mathematics\" data-toc-modified-id=\"Mathematics-1.5\"><span class=\"toc-item-num\">1.5&nbsp;&nbsp;</span>Mathematics</a></span></li></ul></li></ul></div>"
   ]
  },
  {
   "cell_type": "markdown",
   "id": "01f651fd",
   "metadata": {},
   "source": [
    "# Background Resources\n",
    "\n",
    "## Textbook\n",
    "\n",
    "In ES302, we will be leaning heavily on reading assignments from [An Introduction to Autonomous Robots](https://github.com/Introduction-to-Autonomous-Robots/Introduction-to-Autonomous-Robots/blob/master/book-12-01-21-full.pdf) by Nikolaus Correll. The book is free to download at the link above, but it is also open source, with updates submitted often to the book's [Github repository](https://github.com/Introduction-to-Autonomous-Robots/Introduction-to-Autonomous-Robots). A Git repository is a complete record of a textfile-based project (such as code or a book) that includes its entire revision history. We will learn more about Git as a way to organize your work as the semester progresses.\n",
    "\n",
    "## Supplemental Resources\n",
    "\n",
    "The textbook, like all textbooks, won't cover everything we need in the proper amount of detail. I will be releasing supplemental material in the form of webpages (based on the Jupyter notebook platform) that cover course concepts that don't receive a sufficient treatment in the text. An example is the [Romi Resource](../02_Romi_Resources/02A_Romi_Resource.ipynb), which introduces you to the robot we'll be using for class exercises and homework.\n",
    "\n",
    "\n",
    "## Modeling of Physical Systems\n",
    "\n",
    "In ES302, you will need a basic understanding of how interconnected systems of electrical, mechanical, and fluid systems (among others) can be modeled using differential equations. You can find a full set of course notes for ES103, which covers this type of modeling, at [this link](https://alexanderallenbrown.github.io/ES103_SP22_Students). You can also find an abridged version of the course content in [this document](./01B_ES103_Summary_Resource.ipynb).\n",
    "\n",
    "## Programming\n",
    "\n",
    "ES302 also requires a basic proficiency in writing code to analyze data and direct/interact with robots and their environment. You should already be familiar with basic programming concepts, and with the [MATLAB/Octave](https://alexanderallenbrown.github.io/ES103_SP22_Students/Programming_Resource/Programming_Resource.html) language. \n",
    "\n",
    "However, interacting with robots will require you to build on your prior programming skills. In ES302, we will build bridges between robots and computers using the Python programming language. A quick introduction to Python is given in [this document](./01C_Python_Resource.ipynb). We will also do a bit of robot programming using the Arduino language. A quick introduction to the Arduino language is given in [this document](./01D_Arduino_resource.ipynb). \n",
    "\n",
    "## Mathematics\n",
    "\n",
    "This course will require a basic understanding of Calculus 1 through calculus 3, along with differential equations, and a bit of linear algebra. There are appendices to the textbook that cover most of what you'll need!"
   ]
  },
  {
   "cell_type": "code",
   "execution_count": null,
   "id": "26f185c7",
   "metadata": {},
   "outputs": [],
   "source": []
  }
 ],
 "metadata": {
  "kernelspec": {
   "display_name": "Python 3",
   "language": "python",
   "name": "python3"
  },
  "language_info": {
   "codemirror_mode": {
    "name": "ipython",
    "version": 3
   },
   "file_extension": ".py",
   "mimetype": "text/x-python",
   "name": "python",
   "nbconvert_exporter": "python",
   "pygments_lexer": "ipython3",
   "version": "3.7.5"
  },
  "toc": {
   "base_numbering": 1,
   "nav_menu": {},
   "number_sections": true,
   "sideBar": true,
   "skip_h1_title": false,
   "title_cell": "Table of Contents",
   "title_sidebar": "Contents",
   "toc_cell": true,
   "toc_position": {},
   "toc_section_display": true,
   "toc_window_display": false
  }
 },
 "nbformat": 4,
 "nbformat_minor": 5
}
