{
 "cells": [
  {
   "cell_type": "markdown",
   "id": "curious-importance",
   "metadata": {
    "toc": true
   },
   "source": [
    "<h1>Table of Contents<span class=\"tocSkip\"></span></h1>\n",
    "<div class=\"toc\"><ul class=\"toc-item\"><li><span><a href=\"#Introduction/How-To-Use-This-Notebook\" data-toc-modified-id=\"Introduction/How-To-Use-This-Notebook-1\"><span class=\"toc-item-num\">1&nbsp;&nbsp;</span>Introduction/How To Use This Notebook</a></span></li><li><span><a href=\"#What-is-a-Computer-Program?\" data-toc-modified-id=\"What-is-a-Computer-Program?-2\"><span class=\"toc-item-num\">2&nbsp;&nbsp;</span>What is a Computer Program?</a></span></li><li><span><a href=\"#Common-Elements-of-a-Computer-Program\" data-toc-modified-id=\"Common-Elements-of-a-Computer-Program-3\"><span class=\"toc-item-num\">3&nbsp;&nbsp;</span>Common Elements of a Computer Program</a></span><ul class=\"toc-item\"><li><span><a href=\"#Variables\" data-toc-modified-id=\"Variables-3.1\"><span class=\"toc-item-num\">3.1&nbsp;&nbsp;</span>Variables</a></span></li><li><span><a href=\"#Assignment\" data-toc-modified-id=\"Assignment-3.2\"><span class=\"toc-item-num\">3.2&nbsp;&nbsp;</span>Assignment</a></span></li><li><span><a href=\"#Input-and-output\" data-toc-modified-id=\"Input-and-output-3.3\"><span class=\"toc-item-num\">3.3&nbsp;&nbsp;</span>Input and output</a></span></li><li><span><a href=\"#Retrieval\" data-toc-modified-id=\"Retrieval-3.4\"><span class=\"toc-item-num\">3.4&nbsp;&nbsp;</span>Retrieval</a></span></li><li><span><a href=\"#Selection\" data-toc-modified-id=\"Selection-3.5\"><span class=\"toc-item-num\">3.5&nbsp;&nbsp;</span>Selection</a></span></li><li><span><a href=\"#Repetition\" data-toc-modified-id=\"Repetition-3.6\"><span class=\"toc-item-num\">3.6&nbsp;&nbsp;</span>Repetition</a></span></li><li><span><a href=\"#Other-Operations\" data-toc-modified-id=\"Other-Operations-3.7\"><span class=\"toc-item-num\">3.7&nbsp;&nbsp;</span>Other Operations</a></span></li></ul></li><li><span><a href=\"#Planning-a-Computer-Program\" data-toc-modified-id=\"Planning-a-Computer-Program-4\"><span class=\"toc-item-num\">4&nbsp;&nbsp;</span>Planning a Computer Program</a></span></li><li><span><a href=\"#Basic-Operations-in-the-Python-Programming-Language\" data-toc-modified-id=\"Basic-Operations-in-the-Python-Programming-Language-5\"><span class=\"toc-item-num\">5&nbsp;&nbsp;</span>Basic Operations in the Python Programming Language</a></span><ul class=\"toc-item\"><li><span><a href=\"#Assigning-Variables\" data-toc-modified-id=\"Assigning-Variables-5.1\"><span class=\"toc-item-num\">5.1&nbsp;&nbsp;</span>Assigning Variables</a></span></li><li><span><a href=\"#Using-Libraries\" data-toc-modified-id=\"Using-Libraries-5.2\"><span class=\"toc-item-num\">5.2&nbsp;&nbsp;</span>Using Libraries</a></span><ul class=\"toc-item\"><li><span><a href=\"#Method-1:-Loading-a-library-without-an-alias\" data-toc-modified-id=\"Method-1:-Loading-a-library-without-an-alias-5.2.1\"><span class=\"toc-item-num\">5.2.1&nbsp;&nbsp;</span>Method 1: Loading a library without an alias</a></span></li><li><span><a href=\"#Method-2:-Loading-a-library-with-an-alias\" data-toc-modified-id=\"Method-2:-Loading-a-library-with-an-alias-5.2.2\"><span class=\"toc-item-num\">5.2.2&nbsp;&nbsp;</span>Method 2: Loading a library with an alias</a></span></li><li><span><a href=\"#Method-3:-Load-all-functions-from-a-library-into-the-global-namespace\" data-toc-modified-id=\"Method-3:-Load-all-functions-from-a-library-into-the-global-namespace-5.2.3\"><span class=\"toc-item-num\">5.2.3&nbsp;&nbsp;</span>Method 3: Load all functions from a library into the global namespace</a></span></li></ul></li><li><span><a href=\"#Assigning-and-accessing-data-in-arrays-(Matrices)\" data-toc-modified-id=\"Assigning-and-accessing-data-in-arrays-(Matrices)-5.3\"><span class=\"toc-item-num\">5.3&nbsp;&nbsp;</span>Assigning and accessing data in arrays (Matrices)</a></span></li><li><span><a href=\"#Transposing-Matrices\" data-toc-modified-id=\"Transposing-Matrices-5.4\"><span class=\"toc-item-num\">5.4&nbsp;&nbsp;</span>Transposing Matrices</a></span></li><li><span><a href=\"#Matrix-and-element-wise-operations\" data-toc-modified-id=\"Matrix-and-element-wise-operations-5.5\"><span class=\"toc-item-num\">5.5&nbsp;&nbsp;</span>Matrix and element-wise operations</a></span></li><li><span><a href=\"#Making-arrays-that-increment-by-a-constant-value\" data-toc-modified-id=\"Making-arrays-that-increment-by-a-constant-value-5.6\"><span class=\"toc-item-num\">5.6&nbsp;&nbsp;</span>Making arrays that increment by a constant value</a></span></li><li><span><a href=\"#Indexing-and-Slicing\" data-toc-modified-id=\"Indexing-and-Slicing-5.7\"><span class=\"toc-item-num\">5.7&nbsp;&nbsp;</span>Indexing and Slicing</a></span></li><li><span><a href=\"#Indexing-using-the-colon-operator-(partial-slicing)\" data-toc-modified-id=\"Indexing-using-the-colon-operator-(partial-slicing)-5.8\"><span class=\"toc-item-num\">5.8&nbsp;&nbsp;</span>Indexing using the colon operator (partial slicing)</a></span></li><li><span><a href=\"#Loading-Files\" data-toc-modified-id=\"Loading-Files-5.9\"><span class=\"toc-item-num\">5.9&nbsp;&nbsp;</span>Loading Files</a></span></li><li><span><a href=\"#If-Statements\" data-toc-modified-id=\"If-Statements-5.10\"><span class=\"toc-item-num\">5.10&nbsp;&nbsp;</span>If-Statements</a></span></li><li><span><a href=\"#For-Loops\" data-toc-modified-id=\"For-Loops-5.11\"><span class=\"toc-item-num\">5.11&nbsp;&nbsp;</span>For-Loops</a></span></li></ul></li><li><span><a href=\"#Common-Python/Numpy-Functions\" data-toc-modified-id=\"Common-Python/Numpy-Functions-6\"><span class=\"toc-item-num\">6&nbsp;&nbsp;</span>Common Python/Numpy Functions</a></span><ul class=\"toc-item\"><li><span><a href=\"#help\" data-toc-modified-id=\"help-6.1\"><span class=\"toc-item-num\">6.1&nbsp;&nbsp;</span>help</a></span></li><li><span><a href=\"#np.ones()-and-np.zeros()\" data-toc-modified-id=\"np.ones()-and-np.zeros()-6.2\"><span class=\"toc-item-num\">6.2&nbsp;&nbsp;</span>np.ones() and np.zeros()</a></span></li><li><span><a href=\"#Size\" data-toc-modified-id=\"Size-6.3\"><span class=\"toc-item-num\">6.3&nbsp;&nbsp;</span>Size</a></span></li><li><span><a href=\"#Length-(len)\" data-toc-modified-id=\"Length-(len)-6.4\"><span class=\"toc-item-num\">6.4&nbsp;&nbsp;</span>Length (len)</a></span></li><li><span><a href=\"#plotting-with-matplotlib\" data-toc-modified-id=\"plotting-with-matplotlib-6.5\"><span class=\"toc-item-num\">6.5&nbsp;&nbsp;</span>plotting with matplotlib</a></span></li><li><span><a href=\"#Using-matplotlib's-xlim()-and-ylim()-functions-to-set-plot-limits\" data-toc-modified-id=\"Using-matplotlib's-xlim()-and-ylim()-functions-to-set-plot-limits-6.6\"><span class=\"toc-item-num\">6.6&nbsp;&nbsp;</span>Using matplotlib's xlim() and ylim() functions to set plot limits</a></span></li><li><span><a href=\"#numpy's-where()-command-(like-MATLAB's-find()-command)\" data-toc-modified-id=\"numpy's-where()-command-(like-MATLAB's-find()-command)-6.7\"><span class=\"toc-item-num\">6.7&nbsp;&nbsp;</span>numpy's where() command (like MATLAB's find() command)</a></span></li><li><span><a href=\"#numpy.polyfit()\" data-toc-modified-id=\"numpy.polyfit()-6.8\"><span class=\"toc-item-num\">6.8&nbsp;&nbsp;</span>numpy.polyfit()</a></span></li></ul></li><li><span><a href=\"#Classes-in-Python\" data-toc-modified-id=\"Classes-in-Python-7\"><span class=\"toc-item-num\">7&nbsp;&nbsp;</span>Classes in Python</a></span></li><li><span><a href=\"#Common-Errors\" data-toc-modified-id=\"Common-Errors-8\"><span class=\"toc-item-num\">8&nbsp;&nbsp;</span>Common Errors</a></span></li></ul></div>"
   ]
  },
  {
   "cell_type": "markdown",
   "id": "8b9b28d2",
   "metadata": {},
   "source": [
    "# Introduction/How To Use This Notebook\n",
    "\n",
    "This notebook is designed to be accessible to someone who has never written a computer program before. It provides some basic information about the Python programming language that is intended to produce a functional knowledge of how to perform basic tasks. It is **not** intended as a complete reference for all of Python's powerful functionality.\n",
    "\n",
    "If you are already familiar with another language, particularly MATLAB, you may find [this link](https://numpy.org/doc/stable/user/numpy-for-matlab-users.html) helpful in addition to or instead of this reference."
   ]
  },
  {
   "cell_type": "markdown",
   "id": "44fb2116",
   "metadata": {},
   "source": [
    "# What is a Computer Program?\n",
    "\n",
    "In this course you will write short computer programs to help you solve problems, simulate the behavior of a dynamic system, or plot the results of your calculations. This means it is important for you to understand what a computer program is, and how you might go about writing one.\n",
    "\n",
    "**A computer program is a set of instructions that the computer will execute *sequentially* (one after the other) to perform a task or set of tasks**. In the Jupyter Notebook environment, we write our computer programs in \"code cells\" and we *execute* (run) the program by either pressing the \"run\" button in the menu bar or hitting Shift and Enter at the same time while the cell is in focus (highlighted because you clicked on it or your cursor is inside of it). \n",
    "\n",
    "Code in Jupyter notebooks can be written in many different languages. In ES302, we will write in the [Python](www.python.org) language. A standalone python development environment is free and easy to install on your machine. You are welcome to write data processing or simulation code in Octave or MATLAB rather than Python, but we will need to use Python to interact with the [Webots](www.cyberbotics.org) robot simulator, and with the physical robots we will use in ES302.\n",
    "\n",
    "An example of a program you could write in Jupyter using the Python language is shown below. This program calculates the volume of a cylinder based on its radius and height. Run this program to see the results."
   ]
  },
  {
   "cell_type": "code",
   "execution_count": 12,
   "id": "1b73b774",
   "metadata": {},
   "outputs": [
    {
     "name": "stdout",
     "output_type": "stream",
     "text": [
      "1.570796327\n",
      "volume is: 1.570796327\n"
     ]
    }
   ],
   "source": [
    "pi = 3.141592654\n",
    "# user inputs a radius. try changing this value!\n",
    "r = .5;\n",
    "# user inputs a height\n",
    "H = 2;\n",
    "\n",
    "# now using the radius and height, calculate volume of the cylinder.\n",
    "# note that in Python, raising a number to a power is done using **, not ^\n",
    "V = pi*(r**2)*H\n",
    "\n",
    "#print the result. Note that I can print just the variable, or I can change the variable to a string using str()\n",
    "#and print a message with it. This is useful for keeping track of what your program outputs.\n",
    "print(V)\n",
    "print(\"volume is: \"+str(V))"
   ]
  },
  {
   "cell_type": "markdown",
   "id": "9d59e561",
   "metadata": {},
   "source": [
    "Note that this program contained lines that are **comments** marked by the `# ` sign. Comments are not actual instructions to the computer. They are merely to make your program easier for other **people** to read and understand. Each line of code you write in this course should be preceded by a comment that explains what you intend the next line to do. \n",
    "\n",
    "Note as well that it used **variables defined by the user** in the first two lines. Using variables means that you can change your program's *inputs* easily without changing numeric values in multiple places in your code."
   ]
  },
  {
   "cell_type": "markdown",
   "id": "2cf1080d",
   "metadata": {},
   "source": [
    "# Common Elements of a Computer Program\n",
    "\n",
    "While there are many \"custom\" or unique parts of any computer program, there are a few things that are nearly *always* required. \n",
    "\n",
    "## Variables\n",
    "\n",
    "*Variables* in a computer program are \"keywords\" you use to hold data (often but not limited to scalar, single numbers, groups of numbers in the form of arrays/vectors/matrices, or Boolean True/False values). \n",
    "\n",
    "## Assignment\n",
    "\n",
    "The act of *Assigning* data to a variable is one of the most important parts of writing a computer program. In most languages, this is done by writing the variable name on the left side of an equals sign, and the data you wish to assign on the right side of the equals sign, as shown in the snippet below. hit Shift+Enter while the cell is selected to run it. Try assigning different values to \"a.\""
   ]
  },
  {
   "cell_type": "code",
   "execution_count": 13,
   "id": "ff45188f",
   "metadata": {},
   "outputs": [
    {
     "name": "stdout",
     "output_type": "stream",
     "text": [
      "2\n"
     ]
    }
   ],
   "source": [
    "a = 2\n",
    "\n",
    "print(a)"
   ]
  },
  {
   "cell_type": "markdown",
   "id": "4b492050",
   "metadata": {},
   "source": [
    "this simple line of code *defines* the variable \"a\" as being equivalent to the number \"2\" so that you can use the variable \"a\" in subsequent calculations without having to type \"2\" in each line. This means that you could *assign* the value of \"a\" at the top of your code, and if you change that assignment and re-run the code, every calculation that includes \"a\" will now use the new value.\n",
    "\n",
    "Note that you cannot, however, reverse the order of \"a\" and \"2\" in this program. You can switch the order in the cell above to see that it produces an error."
   ]
  },
  {
   "cell_type": "markdown",
   "id": "48ed75b1",
   "metadata": {},
   "source": [
    "## Input and output\n",
    "\n",
    "Many programs require interaction with a user. Sometimes, a program will \"ask\" the user to input certain information. Many languages have specialized functionality to prompt a user for information. Consider the following program, which asks a user to input a number. The program stores this number as a variable using *assignment*. \n",
    "\n",
    "```python\n",
    "my_input = input(\"pick any number: \")\n",
    "print(my_input)\n",
    "```"
   ]
  },
  {
   "cell_type": "markdown",
   "id": "1e71afd6",
   "metadata": {},
   "source": [
    "We will **NOT** commonly use the \"input\" functionality in this course-- another way to achieve user interaction is to simply change your code so that any variables that are critical to your program's operation are defined at the top of the code. That way, you can simply change a line of code as a way of providing an \"input\" to the program. In this case, we could have simply had a line of code at the top that said \n",
    "\n",
    "```matlab\n",
    "my_input = 3;\n",
    "```\n",
    "\n",
    "and changed \"3\" to whatever number we wanted as appropriate. \n",
    "\n",
    "It is also important that a program is able to show \"outputs\" to the user, which represent things that the program has produced based on input from the user. In python, outputs can be many things (including the actions of a physical device), but are often either numerical values or plots. You can find out more about plotting later on in this notebook, but let's imagine that we wanted to write a program that raised any number to any power. We could write the program as follows:"
   ]
  },
  {
   "cell_type": "code",
   "execution_count": 14,
   "id": "59b2ca10",
   "metadata": {},
   "outputs": [
    {
     "name": "stdout",
     "output_type": "stream",
     "text": [
      "8192\n"
     ]
    }
   ],
   "source": [
    "# specify inputs of a and b in the equation a^b\n",
    "num_to_raise = 2; # \"a\" in our equation\n",
    "power_to_raise = 13; # \"b\" in our equation\n",
    "\n",
    "#produce the result, which is a^b\n",
    "result = num_to_raise**power_to_raise\n",
    "\n",
    "#print the result to the console\n",
    "print(result)"
   ]
  },
  {
   "cell_type": "markdown",
   "id": "98c430a0",
   "metadata": {},
   "source": [
    "note that by using the \"print\" command in the last line, I have told Python to display the result to the user!"
   ]
  },
  {
   "cell_type": "markdown",
   "id": "3a06545b",
   "metadata": {},
   "source": [
    "## Retrieval\n",
    "\n",
    "Once data have been *assigned* to a variable, you can *retrieve* the data from that variable to display it to the console or to assign parts of the data to another variable. Let's imagine that you *assigned* an array of numbers to a variable. you could then *retrieve* one or more numbers out of that array. See the example below."
   ]
  },
  {
   "cell_type": "code",
   "execution_count": 15,
   "id": "be691671",
   "metadata": {},
   "outputs": [
    {
     "data": {
      "text/plain": [
       "20"
      ]
     },
     "execution_count": 15,
     "metadata": {},
     "output_type": "execute_result"
    }
   ],
   "source": [
    "# assign data to a variable\n",
    "my_var = [10, 20, 30]; #a list of 3 numbers\n",
    "\n",
    "# retrieve the 2nd number in the array and display it\n",
    "my_var[1]"
   ]
  },
  {
   "cell_type": "markdown",
   "id": "b26446fa",
   "metadata": {},
   "source": [
    "Note that the first element in a list would be retrieved by calling `my_var[0]`. The last element in a list can always be retrieved by calling `my_var[-1]`, and its length is available by calling `len(my_var)`. More detailed information about python lists can be found [here](https://www.w3schools.com/python/python_lists.asp)."
   ]
  },
  {
   "cell_type": "markdown",
   "id": "ffe89ffa",
   "metadata": {},
   "source": [
    "## Selection\n",
    "\n",
    "Sometimes, a program will need to do one thing under certain conditions, and another thing entirely if other conditions are met. This is called \"selection.\" One basic mechanism of selection in the Python language is the \"if\" statement, which is explained [here](#If-Statements).\n",
    "\n",
    "\n",
    "## Repetition\n",
    "\n",
    "Often, the tasks that a program will need to perform have to be repeated. There are structures called \"loops\" in nearly all programming languages that allow small blocks of code to be run repeatedly. In this course, the primary structures we'll use for repetition are the [for-loop](#For-Loops) and the [while loop](https://www.mathworks.com/help/matlab/ref/while.html). \n",
    "\n",
    "## Other Operations\n",
    "\n",
    "Other than assignment, Input/Output, Selection, and Repetition, computer programs also perform *operations* on variables in the program. These could include multiplication, division, raising to a power, or many other types of manipulation. All lines of code are technically \"operations,\" but if those operations do not fall into one of the above categories, we will put them in this \"bin.\" More information about operations in Python is available [here](https://www.w3schools.com/python/python_operators.asp)."
   ]
  },
  {
   "cell_type": "markdown",
   "id": "6e60c909",
   "metadata": {},
   "source": [
    "# Planning a Computer Program\n",
    "\n",
    "You can think of the very simple programs you will write in this course as a numbered list of steps. The computer will do **exactly** what you tell it to; no more, and no less.\n",
    "\n",
    "The most important thing that you need to decide before you write any piece of code is what the code's **inputs** and **outputs** should be. If the code is a computer model of a dynamic system, its outputs will often be something like plots of the system's behavior as a function of time. Its inputs will often be physical properties of the system (think mass, capacitance, spring constant, etc) and perhaps information about how *long* the simulation should run for.\n",
    "\n",
    "After you are confident that you know what should go *into* and come *out of* your program, you will need to break up the task or tasks that relate input and output into discrete steps. You can use a **flow chart** to help you break down the tasks your program should perform into steps that can be turned into a line or a few lines of code. This will help you **plan** your program and avoid a situation where you're not sure what line of code you should be writing next!\n",
    "\n",
    "**Most issues students have with programming are unrelated to issues with syntax (how to actually write the code) and are instead issues students have with *planning*. You must know what you want the program to do in each step before writing your code.**\n",
    "\n",
    "You can find some examples of flow charts that describe computer programs [at this link](https://www.programiz.com/article/flowchart-programming). These should help you get started with thinking about how a program can be represented visually as a series of steps. A basic tutorial on how to use www.diagrams.net to create flow charts is [here](https://www.diagrams.net/doc/getting-started-basic-flow-chart). you can use the snipping tool to turn in a picture of your program's flow chart as part of your assignments in this course!"
   ]
  },
  {
   "cell_type": "markdown",
   "id": "congressional-copying",
   "metadata": {
    "nbgrader": {
     "grade": false,
     "grade_id": "cell-6539d3bb42d40acf",
     "locked": true,
     "schema_version": 3,
     "solution": false
    },
    "resourcetopic": "Model Evaluation"
   },
   "source": [
    "# Basic Operations in the Python Programming Language"
   ]
  },
  {
   "cell_type": "markdown",
   "id": "premium-gibraltar",
   "metadata": {
    "nbgrader": {
     "grade": false,
     "grade_id": "cell-84fd33961a7f81bc",
     "locked": true,
     "schema_version": 3,
     "solution": false
    },
    "resourcetopic": "Model Evaluation"
   },
   "source": [
    "Operations in Python are performed one line at at time. See the \"cell\" below, which defines two variables, adds their values on one line, and then multiplies them on the next. More information about basic arithmetic operations can be found at [this link](https://www.mathworks.com/help/matlab/arithmetic-operators.html). To \"run\" or execute the code in this cell, select it, and then hit Shift+Enter (Hold Shift, then hold Enter as well)."
   ]
  },
  {
   "cell_type": "markdown",
   "id": "amended-nancy",
   "metadata": {},
   "source": [
    "## Assigning Variables\n",
    "\n",
    "Variables can have user-defined names like \"a\" or \"orange.\" They are commonly used to hold numerical information in the form of single numbers or in arrays/matrices for use in later operations. **variables must be defined** before they can be used in a calculation. Code is read \"top to bottom\" within a cell, but once a variable is defined in Jupyter, it is not \"cleared\" unless the kernel is restarted or the \"clear all\" command is run (usually at the top of a cell). "
   ]
  },
  {
   "cell_type": "code",
   "execution_count": 16,
   "id": "selected-identifier",
   "metadata": {
    "nbgrader": {
     "grade": false,
     "grade_id": "cell-431a8f4f0a399257",
     "locked": true,
     "schema_version": 3,
     "solution": false
    },
    "resourcetopic": "Model Evaluation"
   },
   "outputs": [
    {
     "name": "stdout",
     "output_type": "stream",
     "text": [
      "5.02 6.04\n"
     ]
    }
   ],
   "source": [
    "# a comment, which is not executed, is noted by a %. In Jupyter, make sure this % is followed by a space.\n",
    "# use comments to tell the reader what we are doing. First, we \"define\" a variable a to be the number 2.\n",
    "a = 2; # the semicolon at the end of the line means \"don't show me this when you execute the code.\"\n",
    "# now, we will define a second variable. Variable names should be descriptive when possible.\n",
    "b = 3.02;\n",
    "# now we will add them together. \n",
    "c = a+b \n",
    "d = a*b \n",
    "#print the result\n",
    "print(c,d)"
   ]
  },
  {
   "cell_type": "markdown",
   "id": "1b692b31",
   "metadata": {},
   "source": [
    "## Using Libraries\n",
    "\n",
    "In Python, the \"standard library\" includes many useful functions and operations. However, we will often need to use *libraries*, which provide additional functionality, to expand Python's capability. The most common of the libraries we'll use is called \"numpy,\" which provides numerical computing functionality similar to MATLAB. To load a library, we have several options, but all of them involve the \"import\" command.\n",
    "\n",
    "### Method 1: Loading a library without an alias\n",
    "\n",
    "The simplest way to import a library is to just call `import [library]`. This means that if you would like to use any of the functions inside the library, you will need to \"scope\" your request by calling `[library].function()`. An example is shown below for the numpy library."
   ]
  },
  {
   "cell_type": "code",
   "execution_count": 17,
   "id": "b8e61af7",
   "metadata": {},
   "outputs": [
    {
     "name": "stdout",
     "output_type": "stream",
     "text": [
      "[[1. 1. 1.]\n",
      " [1. 1. 1.]\n",
      " [1. 1. 1.]]\n",
      "[[0.]\n",
      " [0.]\n",
      " [0.]]\n"
     ]
    }
   ],
   "source": [
    "#import the library numpy, whose functions we will use\n",
    "import numpy\n",
    "\n",
    "#generate an array of ones that is 3x3\n",
    "a =numpy.ones((3,3))\n",
    "print(a)\n",
    "\n",
    "#generate an array of zeros that is 3x1\n",
    "b = numpy.zeros((3,1))\n",
    "print(b)"
   ]
  },
  {
   "cell_type": "markdown",
   "id": "0c1d04c7",
   "metadata": {},
   "source": [
    "### Method 2: Loading a library with an alias\n",
    "\n",
    "Sometimes it is more convenient to scope your library's functions with a shorter name. This can be done as shown in the following code block:"
   ]
  },
  {
   "cell_type": "code",
   "execution_count": 18,
   "id": "b79a0ff4",
   "metadata": {},
   "outputs": [
    {
     "name": "stdout",
     "output_type": "stream",
     "text": [
      "[[1. 1. 1.]\n",
      " [1. 1. 1.]\n",
      " [1. 1. 1.]]\n",
      "[[0.]\n",
      " [0.]\n",
      " [0.]]\n"
     ]
    }
   ],
   "source": [
    "#import the library numpy, whose functions we will use. call it \"np.\"\n",
    "import numpy as np\n",
    "\n",
    "#generate an array of ones that is 3x3\n",
    "a =np.ones((3,3))\n",
    "print(a)\n",
    "\n",
    "#generate an array of zeros that is 3x1\n",
    "b = np.zeros((3,1))\n",
    "print(b)"
   ]
  },
  {
   "cell_type": "markdown",
   "id": "8fdcd68a",
   "metadata": {},
   "source": [
    "### Method 3: Load all functions from a library into the global namespace\n",
    "\n",
    "In some cases, you may wish to avoid scoping a library's functions at all. It is possible to import all functions from a library into the \"global\" namespace, but **this is risky because you may overwrite other functions you wish to use.** For example, the \"math\" library and the \"numpy\" library both have a function called `sin()`. The numpy implementation can be used to take the sine of lists, numpy arrays and/or matrices, while the math library's implementation can not.\n",
    "\n",
    "Nevertheless, importing all functions from a library into the global namespace can be accomplished as follows."
   ]
  },
  {
   "cell_type": "code",
   "execution_count": 19,
   "id": "d981620b",
   "metadata": {},
   "outputs": [
    {
     "name": "stdout",
     "output_type": "stream",
     "text": [
      "trying math library sin()\n",
      "must be real number, not list\n",
      "trying numpy library sin()\n",
      "[0.84147098 0.90929743 0.14112001]\n"
     ]
    }
   ],
   "source": [
    "#import all functions from the math library\n",
    "from math import *\n",
    "\n",
    "#define a list of numbers\n",
    "a = [1,2,3]\n",
    "#attempt to take the sine of these using the math library's implementation of sin()\n",
    "#if there is an error, the try/except structure will show it to us and move on.\n",
    "print(\"trying math library sin()\")\n",
    "try:\n",
    "    b = sin(a)\n",
    "    print(b)\n",
    "except TypeError as e:\n",
    "    print(e)\n",
    "    \n",
    "#now, import the numpy library's version\n",
    "from numpy import *\n",
    "print(\"trying numpy library sin()\")\n",
    "\n",
    "try:\n",
    "    b = sin(a)\n",
    "    print(b)\n",
    "except TypeError as e:\n",
    "    print(e)"
   ]
  },
  {
   "cell_type": "markdown",
   "id": "b48aae7a",
   "metadata": {},
   "source": [
    "As you may notice, importing all functions from numpy after importing all functions from math *overwrote* many of the math library's functions, including sin(). You may also notice the use of the try/except structure in this code block, which can be useful in some circumstances. More info on the try/except structure can be found [here](https://www.w3schools.com/python/python_try_except.asp)."
   ]
  },
  {
   "cell_type": "markdown",
   "id": "fifteen-banana",
   "metadata": {
    "nbgrader": {
     "grade": false,
     "grade_id": "cell-a722c12f652956a3",
     "locked": true,
     "schema_version": 3,
     "solution": false
    },
    "resourcetopic": "Model Evaluation"
   },
   "source": [
    "\n",
    "## Assigning and accessing data in arrays (Matrices)\n",
    "\n",
    "Often we need \"arrays\" or lists of numbers in order to plot data. While the built-in python \"list\" structure is fine for some things, matrix math is not one of them. To perform matrix math operations, we will use numpy arrays.\n",
    "\n",
    "More detailed information about accessing and manipulating numpy arrays in Python can be found [here](https://numpy.org/doc/stable/user/numpy-for-matlab-users.html)."
   ]
  },
  {
   "cell_type": "code",
   "execution_count": 20,
   "id": "express-scope",
   "metadata": {
    "nbgrader": {
     "grade": false,
     "grade_id": "cell-60e305a4477e84f2",
     "locked": true,
     "schema_version": 3,
     "solution": false
    },
    "resourcetopic": "Model Evaluation"
   },
   "outputs": [
    {
     "name": "stdout",
     "output_type": "stream",
     "text": [
      "unmodified data matrix:\n",
      "[[ 1 10]\n",
      " [ 2 11]\n",
      " [ 3 10]\n",
      " [ 4  9]\n",
      " [ 5  8]]\n",
      "modified data matrix:\n",
      "[[   0 1000]\n",
      " [   1 1100]\n",
      " [   2 1000]\n",
      " [   3  900]\n",
      " [   4  800]]\n"
     ]
    }
   ],
   "source": [
    "import numpy as np\n",
    "# let's create a matrix (an array) of numbers. One column will represent time, and the other will represent \"f,\" which we have computed as some function of time.\n",
    "# arrays are defined by row. inside square brackets defining your array, rows can be defined using square bracketed lists separated by commas\n",
    "data = np.array([[1,10],[2, 11], [3, 10], [4, 9],[5, 8]])\n",
    "print(\"unmodified data matrix:\")\n",
    "print(data)\n",
    "\n",
    "# let's subtract 1 second from all of the times in 'data.' We can access the \"times\" in our data, or the first column only, as follows:\n",
    "data[:,0] = data[:,0]-1 #notice that we have UPDATED all values in the first column of the array. the colon : in data(:,1) represents \"all rows\" in the \"first column\"\n",
    "\n",
    "# Now, let's say we need to convert the units of column 2 from meters to centimeters. We could do this by multiplying all elements in the second column by 100.\n",
    "data[:,1] = data[:,1]*100\n",
    "\n",
    "#print modified data matrix\n",
    "print(\"modified data matrix:\")\n",
    "print(data)"
   ]
  },
  {
   "cell_type": "markdown",
   "id": "parental-lemon",
   "metadata": {},
   "source": [
    "## Transposing Matrices\n",
    "\n",
    "Sometimes, it is necessary to transpose a matrix. This can be done using the apostrophe. See the example below:"
   ]
  },
  {
   "cell_type": "code",
   "execution_count": 21,
   "id": "casual-plane",
   "metadata": {},
   "outputs": [
    {
     "name": "stdout",
     "output_type": "stream",
     "text": [
      "a is: \n",
      "[[1 2 3]]\n",
      "b is: \n",
      "[[1]\n",
      " [2]\n",
      " [3]]\n",
      "c is: \n",
      "[[1]\n",
      " [2]\n",
      " [3]]\n"
     ]
    }
   ],
   "source": [
    "import numpy as np\n",
    "#define a matrix named a. It has 1 row, 3 columns. Note the second set of brackets--\n",
    "#without an outer set of brackets, a numpy array is considered 1D (a vector), not 2D (a matrix)!!\n",
    "a = np.array([[1, 2, 3,]])\n",
    "print(\"a is: \\n\"+str(a))\n",
    "#define a matrix b as the transpose of a. It will have 3 rows, one column.\n",
    "b = a.T\n",
    "print(\"b is: \\n\" +str(b))\n",
    "#note that the transpose can also be computed using np.transpose()\n",
    "c = transpose(a)\n",
    "print(\"c is: \\n\" +str(c))"
   ]
  },
  {
   "cell_type": "markdown",
   "id": "expanded-woman",
   "metadata": {},
   "source": [
    "## Matrix and element-wise operations\n",
    "\n",
    "By default, Python performs *element-wise,* **not** matrix operations between two variables. For example, the code:\n",
    "\n",
    "``` \n",
    "a*b\n",
    "```\n",
    "will default to performing element-wise multiplication between the two variables. \n",
    "\n",
    "Often, however, we want to perform [matrix multiplication](https://www.mathsisfun.com/algebra/matrix-multiplying.html). For this, we need to use the `dot()` function in the numpy library. See the example below."
   ]
  },
  {
   "cell_type": "code",
   "execution_count": 22,
   "id": "shaped-fisher",
   "metadata": {},
   "outputs": [
    {
     "name": "stdout",
     "output_type": "stream",
     "text": [
      "[[40 55]\n",
      " [72 91]]\n",
      "[[100 109]\n",
      " [144 157]]\n"
     ]
    },
    {
     "ename": "ValueError",
     "evalue": "shapes (1,4) and (1,4) not aligned: 4 (dim 1) != 1 (dim 0)",
     "output_type": "error",
     "traceback": [
      "\u001b[0;31m---------------------------------------------------------------------------\u001b[0m",
      "\u001b[0;31mValueError\u001b[0m                                Traceback (most recent call last)",
      "\u001b[0;32m/tmp/ipykernel_18238/552762547.py\u001b[0m in \u001b[0;36m<module>\u001b[0;34m\u001b[0m\n\u001b[1;32m     17\u001b[0m \u001b[0;34m\u001b[0m\u001b[0m\n\u001b[1;32m     18\u001b[0m \u001b[0;31m#if we try to use matrix multiplication, numpy will throw an error.\u001b[0m\u001b[0;34m\u001b[0m\u001b[0;34m\u001b[0m\u001b[0;34m\u001b[0m\u001b[0m\n\u001b[0;32m---> 19\u001b[0;31m \u001b[0mnp\u001b[0m\u001b[0;34m.\u001b[0m\u001b[0mdot\u001b[0m\u001b[0;34m(\u001b[0m\u001b[0mc\u001b[0m\u001b[0;34m,\u001b[0m\u001b[0mt\u001b[0m\u001b[0;34m)\u001b[0m\u001b[0;34m\u001b[0m\u001b[0;34m\u001b[0m\u001b[0m\n\u001b[0m",
      "\u001b[0;32m<__array_function__ internals>\u001b[0m in \u001b[0;36mdot\u001b[0;34m(*args, **kwargs)\u001b[0m\n",
      "\u001b[0;31mValueError\u001b[0m: shapes (1,4) and (1,4) not aligned: 4 (dim 1) != 1 (dim 0)"
     ]
    }
   ],
   "source": [
    "import numpy as np\n",
    "a = np.array([[4, 5], [6, 7]])\n",
    "b = np.array([[10, 11], [12, 13]])\n",
    "\n",
    "#the following performs element-wise multiplication\n",
    "print(a*b)\n",
    "\n",
    "#the following performs matrix multiplication\n",
    "print(np.dot(a,b))\n",
    "\n",
    "#now let's look at two 1x4 matrices, t and c.\n",
    "c = np.array([[1, 2, 3, 4]])\n",
    "t = np.array([[0, 0.1, 0.2, 0.3]])\n",
    "\n",
    "#to multiply each element in c by each element in t, we need to use element-wise multiplication.\n",
    "c*t\n",
    "\n",
    "#if we try to use matrix multiplication, numpy will throw an error.\n",
    "np.dot(c,t)"
   ]
  },
  {
   "cell_type": "markdown",
   "id": "powerful-cocktail",
   "metadata": {},
   "source": [
    "The error Python throws at the end indicates that we're trying to perform an operation between two variables of *incompatible size*. Recall that for matrix multiplication, the inner dimensions must agree."
   ]
  },
  {
   "cell_type": "markdown",
   "id": "flush-south",
   "metadata": {},
   "source": [
    "## Making arrays that increment by a constant value\n",
    "\n",
    "Often, when creating arrays for things like time, it is useful to create arrays that \"count up\" by a certain amount. The \"arange\" (array range) function is one way to do this in Python/numpy. See the example below."
   ]
  },
  {
   "cell_type": "code",
   "execution_count": null,
   "id": "warming-organizer",
   "metadata": {},
   "outputs": [],
   "source": [
    "#create a matrix a that starts at 0, counts up by 0.1, and has a maximum value of 1 noninclusive.\n",
    "a = np.arange(0,1,.1)\n",
    "print(a)"
   ]
  },
  {
   "cell_type": "markdown",
   "id": "lined-complaint",
   "metadata": {},
   "source": [
    "## Indexing and Slicing\n",
    "\n",
    "When a matrix is defined in Python, you can set or access parts of that matrix by *indexing* or *slicing* it. See the example below. Note that Python slices \"by reference,\" unlike some languages like MATLAB. This means that you have to explicitly create a copy of the original matrix if you do not want further modifications to affect the original array."
   ]
  },
  {
   "cell_type": "code",
   "execution_count": 23,
   "id": "informative-custody",
   "metadata": {},
   "outputs": [
    {
     "name": "stdout",
     "output_type": "stream",
     "text": [
      "15\n",
      "my column:\n",
      "[[11]\n",
      " [13]\n",
      " [15]]\n",
      "my modified column:\n",
      "[[22]\n",
      " [26]\n",
      " [30]]\n",
      "final modified form of a:\n",
      "[[ 10  11]\n",
      " [ 12  13]\n",
      " [ 14 100]]\n"
     ]
    }
   ],
   "source": [
    "#given this matrix a\n",
    "a = np.array([[10, 11], [12, 13], [14, 15]])\n",
    "#I can pull out the value in the 2nd row, 1st column by doing:\n",
    "my_value = a[2,1].copy()\n",
    "print(my_value)\n",
    "\n",
    "#I can pull out the whole second column by doing:\n",
    "my_column = a[:,1].copy()\n",
    "#note that this becomes a 1-D array. I can turn it back into a column by doing vstack()\n",
    "my_column = np.vstack(my_column)\n",
    "print(\"my column:\")\n",
    "print(my_column)\n",
    "#if I multiply this by 2, it will not affect the original matrix \"a\"\n",
    "print(\"my modified column:\")\n",
    "my_column = my_column*2\n",
    "print(my_column)\n",
    "\n",
    "#I can also SET a value in the matrix the same way. Note that the value in the 2nd row, 1st column changes from 12 to 100\n",
    "a[2,1] = 100\n",
    "print(\"final modified form of a:\")\n",
    "print(a)"
   ]
  },
  {
   "cell_type": "markdown",
   "id": "equal-allergy",
   "metadata": {},
   "source": [
    "## Indexing using the colon operator (partial slicing)\n",
    "\n",
    "Part of a row or column of a matrix can be set or retrieved using the colon. See the example below:"
   ]
  },
  {
   "cell_type": "code",
   "execution_count": 24,
   "id": "ahead-conspiracy",
   "metadata": {},
   "outputs": [
    {
     "name": "stdout",
     "output_type": "stream",
     "text": [
      "my row\n",
      "[14 15]\n",
      "a\n",
      "[[10 11 12]\n",
      " [12 13 14]\n",
      " [ 1  2  3]]\n"
     ]
    }
   ],
   "source": [
    "#given this matrix a\n",
    "a = np.array([[10, 11, 12], [12, 13, 14], [14, 15, 16]])\n",
    "#I can pull out the first two elements of the second row by doing:\n",
    "my_row = a[2,0:2].copy() #2 here is noninclusive! indices go start:end+1\n",
    "print(\"my row\")\n",
    "print(my_row)\n",
    "#or, I could set the entire third row in a to something new, like so:\n",
    "a[2,:] = [1, 2, 3]\n",
    "print(\"a\")\n",
    "print(a)"
   ]
  },
  {
   "cell_type": "markdown",
   "id": "august-there",
   "metadata": {},
   "source": [
    "## Loading Files\n",
    "\n",
    "If a text file is in the same directory as your notebook, it can be loaded as a variable (numpy array) in Python by using the numpy loadtxt() command. See the example below, where we load the text file 'data.txt,' containing the following text:\n",
    "\n",
    "```\n",
    "1, 2\n",
    "3, 4\n",
    "```\n",
    "Commas, tabs, and whitespace can all be used to separate numbers in a data file. Among other things, we can specify what our delimiter is, what character constitutes a comment (e.g. a header), and how many rows to skip at the beginning in our function call."
   ]
  },
  {
   "cell_type": "code",
   "execution_count": 25,
   "id": "cleared-duncan",
   "metadata": {},
   "outputs": [
    {
     "name": "stdout",
     "output_type": "stream",
     "text": [
      "[[1. 2.]\n",
      " [3. 4.]]\n"
     ]
    }
   ],
   "source": [
    "data = numpy.loadtxt('data.txt',comments='#', delimiter=',', skiprows=0)\n",
    "print(data)"
   ]
  },
  {
   "cell_type": "markdown",
   "id": "4ec39d51",
   "metadata": {},
   "source": [
    "## If-Statements\n",
    "\n",
    "In Python, an \"if\" statement can be used to direct your program to do one thing if certain conditions are met, and another if those conditions are not met. For example, let's say you wrote a code to determine if a number x was divisible by 3. Perhaps this code should return \"x/3\" if the number is divisible by 3, and show the user a message if it is not. For this example, we will also employ the \"modulo\" operator `%`, which returns the remainder of one number divided by another. For example, the code `5%3` would return \"2\" since 5/3 has a remainder of \"2.\"\n",
    "\n",
    "The format for an \"if\" statement is \n",
    "\n",
    "```python\n",
    "\n",
    "if( condition_1 ):\n",
    "    #operations to perform if condition 1 is true are indented.\n",
    "    #\"if\" statement scope ends when indent returns to prior level\n",
    "    # 4 spaces is typical. Be careful not to mix spaces and tab characters!\n",
    "elif (condition_2):\n",
    "    #operations to perform if condition 1 is false but condition 2 is true\n",
    "else:\n",
    "    # operations to perform if none of the \"if\" or \"else if\" conditions are true \n",
    "\n",
    "#program carries on when indent returns to outer level\n",
    "    \n",
    "```"
   ]
  },
  {
   "cell_type": "code",
   "execution_count": 26,
   "id": "11a50dc9",
   "metadata": {},
   "outputs": [
    {
     "name": "stdout",
     "output_type": "stream",
     "text": [
      "number is not divisible by 3!!\n"
     ]
    }
   ],
   "source": [
    "x = 5;\n",
    "\n",
    "if((x%3) == 0): #%note the use of \"==\" for equivalence. \"=\" is for assignment!\n",
    "    result = x/3\n",
    "    print(result)\n",
    "else:\n",
    "    print('number is not divisible by 3!!')\n",
    "    "
   ]
  },
  {
   "cell_type": "markdown",
   "id": "indonesian-tanzania",
   "metadata": {},
   "source": [
    "## For-Loops"
   ]
  },
  {
   "cell_type": "markdown",
   "id": "defensive-chile",
   "metadata": {
    "nbgrader": {
     "grade": false,
     "grade_id": "cell-fca8a38e58cf16b6",
     "locked": true,
     "schema_version": 3,
     "solution": false
    },
    "resourcetopic": "Model Construction"
   },
   "source": [
    "In Python, a \"for loop\" can be used to perform repetitive calculations easily. The syntax looks like this:\n",
    "\n",
    "```python\n",
    "for k in range(0,10): # range(0,10) produces a list [0,1,2,3,4,5,6,7,8,9]. The 10 is noninclusive.\n",
    "    #operations to be repeated 10 times go here. Indent level scopes the for-loop. 4 spaces is typical\n",
    "\n",
    "#program continues on where indent returns to outer level.\n",
    "```\n",
    "\n",
    "the index `k` begins at 0. Then, whatever operations you need to perform repetitively inside the loop are indented. Once the loop hits the last indented line, it goes back to the top of the \"for\" loop and increases `k` by 1. It does this until `k=9`. Then, the loop completes for the last time, and the program continues on where the indent level of the \"for\" line is resumed. Let's look at an example, in which we use a for-loop to create an array where each entry is equal to 2*k.\n",
    "\n",
    "The output `a(k)` in the code below is printed, so you can see how the code \"builds\" the array `a` one column at a time. If you suppress that line using a semicolon, you will not have to see all of the \"intermediate\" actions of the code."
   ]
  },
  {
   "cell_type": "code",
   "execution_count": 27,
   "id": "existing-creature",
   "metadata": {
    "resourcetopic": "Model Construction"
   },
   "outputs": [
    {
     "name": "stdout",
     "output_type": "stream",
     "text": [
      "[[0. 0. 0. 0. 0.]]\n",
      "[[0. 2. 0. 0. 0.]]\n",
      "[[0. 2. 4. 0. 0.]]\n",
      "[[0. 2. 4. 6. 0.]]\n",
      "[[0. 2. 4. 6. 8.]]\n",
      "loop is done!\n"
     ]
    }
   ],
   "source": [
    "# initialize the array\n",
    "a = np.zeros((1,5))# this creates an array of all zeros, with dimensions 1 row by 1 columns.\n",
    "\n",
    "for k in range(0,a.size): # notice how we grab the number of columns here. This automatically sees how many times the loop should run (5 in this case)\n",
    "    #print k so we can see what it is\n",
    "    k\n",
    "    #fill in this entry in a\n",
    "    a[0,k] = 2*k\n",
    "    print(a)\n",
    "\n",
    "print(\"loop is done!\")"
   ]
  },
  {
   "cell_type": "markdown",
   "id": "contrary-saturday",
   "metadata": {},
   "source": [
    "# Common Python/Numpy Functions\n"
   ]
  },
  {
   "cell_type": "markdown",
   "id": "relevant-villa",
   "metadata": {},
   "source": [
    "## help\n",
    "\n",
    "The \"help\" function can be used to find information about any Python function that provides it. See the example below."
   ]
  },
  {
   "cell_type": "code",
   "execution_count": 28,
   "id": "secret-butler",
   "metadata": {
    "scrolled": false
   },
   "outputs": [
    {
     "name": "stdout",
     "output_type": "stream",
     "text": [
      "Help on function ones in module numpy:\n",
      "\n",
      "ones(shape, dtype=None, order='C', *, like=None)\n",
      "    Return a new array of given shape and type, filled with ones.\n",
      "    \n",
      "    Parameters\n",
      "    ----------\n",
      "    shape : int or sequence of ints\n",
      "        Shape of the new array, e.g., ``(2, 3)`` or ``2``.\n",
      "    dtype : data-type, optional\n",
      "        The desired data-type for the array, e.g., `numpy.int8`.  Default is\n",
      "        `numpy.float64`.\n",
      "    order : {'C', 'F'}, optional, default: C\n",
      "        Whether to store multi-dimensional data in row-major\n",
      "        (C-style) or column-major (Fortran-style) order in\n",
      "        memory.\n",
      "    like : array_like\n",
      "        Reference object to allow the creation of arrays which are not\n",
      "        NumPy arrays. If an array-like passed in as ``like`` supports\n",
      "        the ``__array_function__`` protocol, the result will be defined\n",
      "        by it. In this case, it ensures the creation of an array object\n",
      "        compatible with that passed in via this argument.\n",
      "    \n",
      "        .. versionadded:: 1.20.0\n",
      "    \n",
      "    Returns\n",
      "    -------\n",
      "    out : ndarray\n",
      "        Array of ones with the given shape, dtype, and order.\n",
      "    \n",
      "    See Also\n",
      "    --------\n",
      "    ones_like : Return an array of ones with shape and type of input.\n",
      "    empty : Return a new uninitialized array.\n",
      "    zeros : Return a new array setting values to zero.\n",
      "    full : Return a new array of given shape filled with value.\n",
      "    \n",
      "    \n",
      "    Examples\n",
      "    --------\n",
      "    >>> np.ones(5)\n",
      "    array([1., 1., 1., 1., 1.])\n",
      "    \n",
      "    >>> np.ones((5,), dtype=int)\n",
      "    array([1, 1, 1, 1, 1])\n",
      "    \n",
      "    >>> np.ones((2, 1))\n",
      "    array([[1.],\n",
      "           [1.]])\n",
      "    \n",
      "    >>> s = (2,2)\n",
      "    >>> np.ones(s)\n",
      "    array([[1.,  1.],\n",
      "           [1.,  1.]])\n",
      "\n"
     ]
    }
   ],
   "source": [
    "help(np.ones)"
   ]
  },
  {
   "cell_type": "markdown",
   "id": "brave-klein",
   "metadata": {},
   "source": [
    "## np.ones() and np.zeros()\n",
    "\n",
    "Often, it is useful to create arrays of a particular size that are filled with a particular number. The ones() and zeros() functions are easy ways to do this. zeros() produces a matrix filled with all zeros, and ones() produces a matrix filled with all ones (this can be used to fill a matrix with any constant number).\n",
    "\n",
    "See the example below. Both take two arguments. The first one is the number of rows you want, and the second is the number of columns."
   ]
  },
  {
   "cell_type": "code",
   "execution_count": 29,
   "id": "demanding-cursor",
   "metadata": {},
   "outputs": [
    {
     "name": "stdout",
     "output_type": "stream",
     "text": [
      "[[0. 0. 0. 0. 0. 0. 0. 0. 0. 0.]]\n",
      "[[1. 1. 1. 1. 1.]\n",
      " [1. 1. 1. 1. 1.]]\n",
      "[[3.5 3.5 3.5 3.5 3.5]]\n"
     ]
    }
   ],
   "source": [
    "#create a 1x10 matrix of all zeros.\n",
    "a = np.zeros((1,10))\n",
    "print(a)\n",
    "#create a 2x5 matrix of all ones\n",
    "b = np.ones((2,5))\n",
    "print(b)\n",
    "#create a 1x5 matrix of all 3.5\n",
    "c = 3.5*np.ones((1,5))\n",
    "print(c)"
   ]
  },
  {
   "cell_type": "markdown",
   "id": "balanced-release",
   "metadata": {},
   "source": [
    "## Size\n",
    "\n",
    "The size property of a numpy array returns the number of rows and the number of columns in a list, in that order. See the example below."
   ]
  },
  {
   "cell_type": "code",
   "execution_count": 30,
   "id": "inappropriate-heritage",
   "metadata": {},
   "outputs": [
    {
     "name": "stdout",
     "output_type": "stream",
     "text": [
      "1 row, 50 columns\n",
      "50\n",
      "1 row, 26 columns\n",
      "25\n",
      "1 row, 20 columns\n",
      "20\n"
     ]
    }
   ],
   "source": [
    "array1 = np.arange(0,10,0.2); # here are 3 different arrays each with their own size of values\n",
    "array2 = np.arange(0,10,0.4); \n",
    "array3 = np.array([[ 1, 2, 3, 4, 5, 6, 7, 8, 9, 10, 11, 12, 13, 14, 15, 16, 17, 18, 19, 20]]);\n",
    "\n",
    "# to easily find the size of these arrays you can use the \"size\" property\n",
    "# the answer you obtain tells you what your array is like and it comes in \n",
    "# the format of rows then columns`\n",
    "\n",
    "\n",
    "print('1 row, 50 columns')\n",
    "print(array1.size)\n",
    "\n",
    "print('1 row, 26 columns')\n",
    "print(array2.size) \n",
    "\n",
    "print('1 row, 20 columns')\n",
    "print(array3.size) \n",
    "\n",
    "\n",
    "# this function is helpful when trying to assess vector length errors"
   ]
  },
  {
   "cell_type": "markdown",
   "id": "spectacular-frederick",
   "metadata": {},
   "source": [
    "## Length (len)\n",
    "\n",
    "The len() function returns the length of a python list or other multidimensional object (it is not as useful as 'size' for numpy arrays). If the list has more than one dimension, it returns the length of the longest dimension. See the example below."
   ]
  },
  {
   "cell_type": "code",
   "execution_count": 31,
   "id": "functional-philip",
   "metadata": {},
   "outputs": [
    {
     "name": "stdout",
     "output_type": "stream",
     "text": [
      "3\n"
     ]
    }
   ],
   "source": [
    "a = [[1, 2], [3, 4], [5, 6]]\n",
    "print(len(a))"
   ]
  },
  {
   "cell_type": "markdown",
   "id": "armed-recommendation",
   "metadata": {},
   "source": [
    "In this case, since \"a\" had 3 rows and 2 columns, it returns \"3\" as the length."
   ]
  },
  {
   "cell_type": "markdown",
   "id": "comparable-specification",
   "metadata": {},
   "source": [
    "## plotting with matplotlib"
   ]
  },
  {
   "cell_type": "markdown",
   "id": "absent-ideal",
   "metadata": {},
   "source": [
    "\n",
    "The matplotlib library, and specifically its plot() function, allows us to visuzlize our data. Its syntax is very similar to plotting in MATLAB.\n",
    "\n",
    "Its basic usage is shown in the snippet below:\n",
    "```python\n",
    "import matplotlib.pyplot as plt\n",
    "\n",
    "plt.figure()\n",
    "plt.plot(x-axis array,y-axis array,'type of line')\n",
    "plt.xlabel('name of x axis data (w/units)') \n",
    "plt.ylabel('name of y axis data (w/units)')\n",
    "plt.legend(['name of the line'])\n",
    "plt.show()\n",
    "```\n",
    "\n",
    "There are many line styles you can use (see \"help(plt.plot)\" for more).\n",
    "\n",
    "They all follow the format: color,point type, line type. \n",
    "\n",
    "Some examples are given below:\n",
    "\n",
    "'bo-' gives you a blue(b) line(-) with circle points(o)\n",
    "\n",
    "'mx--' gives you a magenta(m) dotted line(--) with x points(x)\n",
    "\n",
    "'k.-' gives you a black(k) line(-) with . points(.)\n",
    "\n",
    "See the code cell below for some more examples."
   ]
  },
  {
   "cell_type": "code",
   "execution_count": 32,
   "id": "favorite-citation",
   "metadata": {},
   "outputs": [
    {
     "data": {
      "text/plain": [
       "<matplotlib.legend.Legend at 0x7f376c5a57d0>"
      ]
     },
     "execution_count": 32,
     "metadata": {},
     "output_type": "execute_result"
    },
    {
     "data": {
      "image/png": "[encoded data removed]",
      "text/plain": [
       "<Figure size 432x288 with 1 Axes>"
      ]
     },
     "metadata": {
      "needs_background": "light"
     },
     "output_type": "display_data"
    },
    {
     "data": {
      "image/png": "[encoded data removed]",
      "text/plain": [
       "<Figure size 432x288 with 1 Axes>"
      ]
     },
     "metadata": {
      "needs_background": "light"
     },
     "output_type": "display_data"
    }
   ],
   "source": [
    "import matplotlib.pyplot as plt\n",
    "import numpy as np\n",
    "\n",
    "t = np.arange(0,50,2) # array for time, starting at 0, counting by 2s up to 50\n",
    "m = 1.0/4 # slope of the line\n",
    "b = 1; # y-intercept\n",
    "y = (m * t) + b; # equation created for graphing example\n",
    "\n",
    "\n",
    "plt.figure()\n",
    "plt.plot(t,y,'bo-') # things that are plotted against one another must be the same size\n",
    "plt.xlabel('time') # name of the first component in plot\n",
    "plt.ylabel('position (y)') # name of the second component in plot\n",
    "plt.legend(['example']) # name of the line that is being graphed\n",
    "\n",
    "# it's also possible to graph more than one line on a certain set of axes\n",
    "\n",
    "m2 = 1.0/2; # new slope. notice 1.0/2 not 1/2 to ensure floating point division.\n",
    "y2 = (m2 * t) + b; # new equation with new slope\n",
    "\n",
    "# you can create a whole new graph by creating another 'figure'\n",
    "\n",
    "plt.figure()\n",
    "plt.plot(t,y,'bo-',t,y2,'mx--') # if you wanted to add a third line you would follow this pattern\n",
    "plt.xlabel('time (s)')\n",
    "plt.ylabel('position (m)')\n",
    "plt.legend(['example 1','example 2']) # because there are 2 lines being graphed you now need 2 names"
   ]
  },
  {
   "cell_type": "markdown",
   "id": "f987dbfc",
   "metadata": {},
   "source": [
    "## Using matplotlib's xlim() and ylim() functions to set plot limits\n",
    "\n",
    "You can set the limits of a plot using xlim() and ylim() functions. An example is below."
   ]
  },
  {
   "cell_type": "code",
   "execution_count": 33,
   "id": "6c4f410a",
   "metadata": {},
   "outputs": [
    {
     "data": {
      "text/plain": [
       "(2.0, 10.0)"
      ]
     },
     "execution_count": 33,
     "metadata": {},
     "output_type": "execute_result"
    },
    {
     "data": {
      "image/png": "[encoded data removed]",
      "text/plain": [
       "<Figure size 432x288 with 1 Axes>"
      ]
     },
     "metadata": {
      "needs_background": "light"
     },
     "output_type": "display_data"
    }
   ],
   "source": [
    "plt.figure()\n",
    "plt.plot(t,y,'bo-',t,y2,'mx--') # if you wanted to add a third line you would follow this pattern\n",
    "plt.xlabel('time (s)')\n",
    "plt.ylabel('position (m)')\n",
    "plt.legend(['example 1','example 2']) # because there are 2 lines being graphed you now need 2 names\n",
    "\n",
    "#now cut off the time so I only look at the first 20 seconds\n",
    "plt.xlim([0, 20])\n",
    "#now crop in the y so I only look at y values from 2 to 10\n",
    "plt.ylim([2, 10])"
   ]
  },
  {
   "cell_type": "markdown",
   "id": "vocational-uzbekistan",
   "metadata": {},
   "source": [
    "## numpy's where() command (like MATLAB's find() command)\n",
    "\n",
    "The `where()` function allows to to locate an element in an array that satisfies a condition. Use \"help(np.where)\" to see all of the possible inputs to this function and how to use them. As a quick example, suppose you have the function:\n",
    "\n",
    "$$y = 1-e^{-t}$$\n",
    "\n",
    "and you'd like to know at what time this function is first greater than or equal to 0.632. This could be accomplished using the following code:"
   ]
  },
  {
   "cell_type": "code",
   "execution_count": 34,
   "id": "informed-approach",
   "metadata": {},
   "outputs": [
    {
     "name": "stdout",
     "output_type": "stream",
     "text": [
      "found index was 100\n"
     ]
    },
    {
     "data": {
      "text/plain": [
       "<matplotlib.legend.Legend at 0x7f376c3d3210>"
      ]
     },
     "execution_count": 34,
     "metadata": {},
     "output_type": "execute_result"
    },
    {
     "data": {
      "image/png": "[encoded data removed]",
      "text/plain": [
       "<Figure size 432x288 with 1 Axes>"
      ]
     },
     "metadata": {
      "needs_background": "light"
     },
     "output_type": "display_data"
    }
   ],
   "source": [
    "import matplotlib.pyplot as plt\n",
    "import numpy as np\n",
    "\n",
    "#set up variable to hold time values\n",
    "t = np.arange(0,5,.01)\n",
    "#implement my equation:\n",
    "y = 1 - exp(-t);\n",
    "#use where() to locate which VALUE in my array y is greater than .632.\n",
    "my_index = np.where(y>0.632)[0][0] #tells the find() command to find one index in the array y \n",
    "#(the first one) for which y is greater than 0.632.\n",
    "#this index will be an integer between 1 and the length of y, allowing me to use it to \"index\" the variable\n",
    "#and find the values I'm interested in\n",
    "print(\"found index was \"+str(my_index))\n",
    "#now, to use this, I would like to see which y value that is, and at what time it occurs:\n",
    "my_y = y[my_index]\n",
    "my_time = t[my_index]\n",
    "\n",
    "#just to make this visual, let's plot y vs. t, and also plot our \"found\" value on top.\n",
    "plt.figure()\n",
    "plt.plot(t,y,'k',my_time,my_y,'ro')\n",
    "plt.xlabel('Time (s)')\n",
    "plt.ylabel('Y (quarks)')\n",
    "plt.legend(['y','first point where y greater than 0.632'])"
   ]
  },
  {
   "cell_type": "markdown",
   "id": "dedicated-caution",
   "metadata": {
    "nbgrader": {
     "grade": false,
     "grade_id": "cell-9cc788a10be53c88",
     "locked": true,
     "schema_version": 3,
     "solution": false
    },
    "resourcetopic": "Model Construction"
   },
   "source": [
    "## numpy.polyfit()"
   ]
  },
  {
   "cell_type": "markdown",
   "id": "interstate-crossing",
   "metadata": {
    "nbgrader": {
     "grade": false,
     "grade_id": "cell-b36367c40be7a836",
     "locked": true,
     "schema_version": 3,
     "solution": false
    },
    "resourcetopic": "Model Construction"
   },
   "source": [
    "Python's numpy library can be used to estimate a \"best fit\" polynomial function to match a dataset. The term \"best fit,\" in this context, means that the sum of the squared error between the model and the data is minimized. The command used to produce the set of coefficients is \"polyfit.\" An example of how to use the \"polyfit\" command to produce the best-fit line for a dataset is shown below."
   ]
  },
  {
   "cell_type": "code",
   "execution_count": 35,
   "id": "brave-admission",
   "metadata": {
    "resourcetopic": "Model Construction"
   },
   "outputs": [
    {
     "name": "stdout",
     "output_type": "stream",
     "text": [
      "estimated m: -2.9835050728427857, estimated b: 3.9327614356180147\n"
     ]
    },
    {
     "data": {
      "text/plain": [
       "<matplotlib.legend.Legend at 0x7f376c35f350>"
      ]
     },
     "execution_count": 35,
     "metadata": {},
     "output_type": "execute_result"
    },
    {
     "data": {
      "image/png": "[encoded data removed]",
      "text/plain": [
       "<Figure size 432x288 with 1 Axes>"
      ]
     },
     "metadata": {
      "needs_background": "light"
     },
     "output_type": "display_data"
    }
   ],
   "source": [
    "# first, create some fake \"data\" we will fit a line to, in order to see how \"polyfit\" works.\n",
    "xfakedata = np.arange(0,10,.1);\n",
    "yfakedata = -3*xfakedata + 4 + .5*np.random.randn((xfakedata.size)); #the randn() on the end produces some random \"noise\" on our fake data.\n",
    "#this simulates the effect of having error in our measurements. If polyfit does its job, we should get the line y = -3x+4 back!\n",
    "\n",
    "#now we will actually use polyfit. The array \"coefficients\" will contain [m b] in the equation y = m*x+b.\n",
    "#the second argument to the polyfit() function is the ORDER of the polynomial. A line is a polynomial of order 1. \n",
    "#for reference, a quadratic is a polynomial of order 2.\n",
    "coefficients = np.polyfit(xfakedata,yfakedata,1); \n",
    "#was m=-3 and b=4?\n",
    "m_estimate = coefficients[0]\n",
    "b_estimate = coefficients[1]\n",
    "\n",
    "print(\"estimated m: \"+str(m_estimate)+\", estimated b: \"+str(b_estimate))\n",
    "\n",
    "#now, these coefficients fully define a \"model\" of our relationship y = m*x+b. Let's produce predictions based on this model\n",
    "ymodel = m_estimate*xfakedata + b_estimate;\n",
    "\n",
    "#now plot the data and the model together to evaluate.\n",
    "plt.figure()\n",
    "plt.plot(xfakedata,yfakedata,'ks',xfakedata,ymodel,'r')\n",
    "plt.xlabel('x')\n",
    "plt.ylabel('y')\n",
    "plt.legend(['data','model'])"
   ]
  },
  {
   "cell_type": "markdown",
   "id": "60b737df",
   "metadata": {},
   "source": [
    "# Classes in Python\n",
    "\n",
    "Python is an object-oriented language. This means that it has the ability to define \"classes\" that define \"objects.\" In programming, an object is a data structure that has both members (variables that are scoped to \"belong\" to the object) and methods (functions that the object can perform). A robot, for example, is a good candidate to talk about what an \"object\" is. A robot has properties like color, size, number of wheels... these belong to each individual robot and may be different from robot to robot, but we could come up with a pretty good list of things we'd need to know about a robot in order to define it as such. A robot also can *do* things... it has methods like \"go forward\" or \"grab the ball.\" \n",
    "\n",
    "Programming a class is about conceptualizing what you want to do in terms of \"objects.\" A very brief but good introduction to Python objects is given at [this link](https://towardsdatascience.com/introduction-to-python-classes-da526ff745df). "
   ]
  },
  {
   "cell_type": "markdown",
   "id": "divine-papua",
   "metadata": {},
   "source": [
    "# Common Errors\n",
    "\n",
    "Errors are common, even if you're an expert programmer. Reading the error carefully will give you an idea of what is wrong with your code. Below are some common error archetypes and some hints about what they mean. As you debug your code, talking your way through every term in every line can help!"
   ]
  }
 ],
 "metadata": {
  "kernelspec": {
   "display_name": "Python 3",
   "language": "python",
   "name": "python3"
  },
  "language_info": {
   "codemirror_mode": {
    "name": "ipython",
    "version": 3
   },
   "file_extension": ".py",
   "mimetype": "text/x-python",
   "name": "python",
   "nbconvert_exporter": "python",
   "pygments_lexer": "ipython3",
   "version": "3.7.5"
  },
  "toc": {
   "base_numbering": 1,
   "nav_menu": {},
   "number_sections": true,
   "sideBar": true,
   "skip_h1_title": false,
   "title_cell": "Table of Contents",
   "title_sidebar": "Contents",
   "toc_cell": true,
   "toc_position": {},
   "toc_section_display": true,
   "toc_window_display": false
  }
 },
 "nbformat": 4,
 "nbformat_minor": 5
}
