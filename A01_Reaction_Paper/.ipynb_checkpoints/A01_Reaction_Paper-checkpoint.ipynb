{
 "cells": [
  {
   "cell_type": "markdown",
   "id": "f221ce17",
   "metadata": {
    "toc": true
   },
   "source": [
    "<h1>Table of Contents<span class=\"tocSkip\"></span></h1>\n",
    "<div class=\"toc\"><ul class=\"toc-item\"><li><span><a href=\"#Reaction-Paper:-Due-9/9/2022\" data-toc-modified-id=\"Reaction-Paper:-Due-9/9/2022-1\"><span class=\"toc-item-num\">1&nbsp;&nbsp;</span>Reaction Paper: Due 9/9/2022</a></span><ul class=\"toc-item\"><li><span><a href=\"#Reading-Assignment\" data-toc-modified-id=\"Reading-Assignment-1.1\"><span class=\"toc-item-num\">1.1&nbsp;&nbsp;</span>Reading Assignment</a></span></li><li><span><a href=\"#Expectations\" data-toc-modified-id=\"Expectations-1.2\"><span class=\"toc-item-num\">1.2&nbsp;&nbsp;</span>Expectations</a></span></li></ul></li></ul></div>"
   ]
  },
  {
   "cell_type": "markdown",
   "id": "202da617",
   "metadata": {},
   "source": [
    "# Reaction Paper: Due 9/9/2022\n",
    "\n",
    "Engineering cannot be accomplished independent of the social, environmental, and ethical implications of technological solutions. In a four-page, double-spaced letter to your city council, citing any and all sources you use, you will respond to the following prompt:\n",
    "\n",
    "Your local police department budget proposal for next year includes large line-items for spending on Unmanned Aerial Vehicles (UAVs, also colloquially called \"drones\") that they want to use in order to get an advanced look at the scene of an incident before responding. The department proposal says that a \"drone program\" will help reduce risk for both officers and civilians by reducing response time and increasing response appropriateness; they cite hypothetical scenarios in which they decide what type of response (e.g. welfare check vs. SWAT) is warranted based on the video feed from the robots. \n",
    "\n",
    "You work for a local company that produces UAVs that might be suited to the task, but you are also a citizen of the jurisdiction. The city council has solicited feedback from residents, and you wish to provide your input.\n",
    "\n",
    "## Reading Assignment\n",
    "\n",
    "To begin with, you have read and understand Chapter 1 (pg 19-25) of the textbook. You can answer all of the discussion questions at the end of the chapter confidently.\n",
    "\n",
    "You have also recently read the following articles on popular media indicating that there is at least precedent for this kind of program:\n",
    "* [Having eyes in the sky with drones is invaluable, Ohio cops say](https://www.police1.com/drones/articles/having-eyes-in-the-sky-with-drones-is-invaluable-ohio-cops-say-zuBVA6p81WewjCaH)\n",
    "* [How Are Police Using Drones?](https://www.eff.org/deeplinks/2022/01/how-are-police-using-drones)\n",
    "* [How To Regulate Police Use of Drones](https://www.brookings.edu/techstream/how-to-regulate-police-use-of-drones/)\n",
    "\n",
    "You have also recently seen the following news report:"
   ]
  },
  {
   "cell_type": "code",
   "execution_count": 1,
   "id": "faa94458",
   "metadata": {
    "hide_input": true
   },
   "outputs": [
    {
     "data": {
      "text/html": [
       "<iframe width=\"900\" height=\"540\" src=\"https://www.youtube.com/embed/Xarh4KvEPuE\" frameborder=\"0\" allow=\"accelerometer; autoplay; encrypted-media; gyroscope; picture-in-picture\" allowfullscreen></iframe>\n"
      ],
      "text/plain": [
       "<IPython.core.display.HTML object>"
      ]
     },
     "metadata": {},
     "output_type": "display_data"
    }
   ],
   "source": [
    "%%html\n",
    "<iframe width=\"900\" height=\"540\" src=\"https://www.youtube.com/embed/Xarh4KvEPuE\" frameborder=\"0\" allow=\"accelerometer; autoplay; encrypted-media; gyroscope; picture-in-picture\" allowfullscreen></iframe>"
   ]
  },
  {
   "cell_type": "markdown",
   "id": "ecde6920",
   "metadata": {},
   "source": [
    "Finally, you are aware of and have read [this review article](https://ieeexplore.ieee.org/document/8682048/) as part of your work at your robotics company, so you are familiar with the breadth and depth of current UAV technology and capability. Note that this review article may point you towards other key articles that may be helpful in crafting your response."
   ]
  },
  {
   "cell_type": "markdown",
   "id": "497749fa",
   "metadata": {},
   "source": [
    "## Expectations\n",
    "\n",
    "Create and edit your submission using Google Docs. Be sure that your document is in a subfolder of your course shared folder called A01/, and be sure to review the [Google Docs Resource](../01_Background_Resources/01E_Google_Docs_Resources.ipynb), which explains how to use citations, templates, figures, and equations in Google Docs. No specific citation format is required for this submission, and no specific style guide or template is required, but you may find the Google Docs resource helpful anyway.\n",
    "\n",
    "**Be sure to address the following in your letter, which should be 2-4 pages double spaced:**\n",
    "\n",
    "1. Take a position on whether you support the drone program, based on what you know. Support that position with clear reasoning, and cite any sources you find that help you make your case.\n",
    "2. Outline the potential social, environmental, and ethical issues with instituting a drone program. You may choose to make your analysis relevant to where you grew up, or you may imagine that the program has been proposed in Easton. Be sure to carefully consider the stakeholders in the program, the impacts that the program may have on them, and potential hazards, risks, and pitfalls associated with the implementation of a drone program.\n",
    "3. Explicitly citing what you know and can glean from the literature about the capability of UAVs in the consumer price bracket (as opposed to military-level technology), explain your best understanding of how the limitations and capabilities of UAVs support your position on the drone program developed for items 1 and 2. \n",
    "4. If you chose not to support the program, explain what (if any) stipulations or limitations would cause you to reconsider. If you would never support such a program, be sure to justify this using the evidence you presented for items 2 and 3. If you chose to support the program, outline any stipulations or limitations you think are vital to your support. Be sure to justify these using the evidence you presented for items 2 and 3.\n",
    "\n",
    "You will receive feedback from your instructor, which you must address in a revised submission. Consider your response carefully, explicitly thinking about how the police department interacts with citizens, and how the program may improve or exacerbate any social tensions between citizens and the police. In ES103, we learned about how a model could be \"scoped\" to many different scales. Think critically about the \"scope\" of the model the police department is likely using to guide its decisions, the \"scope\" of the model an engineering firm might use to develop UAV technology, and the \"scope\" you feel is appropriate for addressing the effects that this program may have on the well-being of your city. \n",
    "\n",
    "Also note that you may find an ethical framework tailored to robotics and artificial intelligence useful to help you frame your response. You do not have to use it, but such a framework is presented [here](https://openroboethics.org//ai-toolkit/) by the Open Roboethics Institute, a non-profit think tank."
   ]
  }
 ],
 "metadata": {
  "kernelspec": {
   "display_name": "Python 3",
   "language": "python",
   "name": "python3"
  },
  "language_info": {
   "codemirror_mode": {
    "name": "ipython",
    "version": 3
   },
   "file_extension": ".py",
   "mimetype": "text/x-python",
   "name": "python",
   "nbconvert_exporter": "python",
   "pygments_lexer": "ipython3",
   "version": "3.7.5"
  },
  "toc": {
   "base_numbering": 1,
   "nav_menu": {},
   "number_sections": true,
   "sideBar": true,
   "skip_h1_title": false,
   "title_cell": "Table of Contents",
   "title_sidebar": "Contents",
   "toc_cell": true,
   "toc_position": {},
   "toc_section_display": true,
   "toc_window_display": false
  }
 },
 "nbformat": 4,
 "nbformat_minor": 5
}
