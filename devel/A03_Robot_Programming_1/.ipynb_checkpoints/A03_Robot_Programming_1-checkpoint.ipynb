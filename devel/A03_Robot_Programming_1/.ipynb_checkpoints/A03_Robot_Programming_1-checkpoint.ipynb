{
 "cells": [
  {
   "cell_type": "markdown",
   "id": "5d401dc6",
   "metadata": {
    "toc": true
   },
   "source": [
    "<h1>Table of Contents<span class=\"tocSkip\"></span></h1>\n",
    "<div class=\"toc\"><ul class=\"toc-item\"><li><span><a href=\"#Robot-Programming-1\" data-toc-modified-id=\"Robot-Programming-1-1\"><span class=\"toc-item-num\">1&nbsp;&nbsp;</span>Robot Programming 1</a></span><ul class=\"toc-item\"><li><span><a href=\"#Reading-Assignment\" data-toc-modified-id=\"Reading-Assignment-1.1\"><span class=\"toc-item-num\">1.1&nbsp;&nbsp;</span>Reading Assignment</a></span></li><li><span><a href=\"#Deliverables\" data-toc-modified-id=\"Deliverables-1.2\"><span class=\"toc-item-num\">1.2&nbsp;&nbsp;</span>Deliverables</a></span></li><li><span><a href=\"#Expectations-for-Collaboration\" data-toc-modified-id=\"Expectations-for-Collaboration-1.3\"><span class=\"toc-item-num\">1.3&nbsp;&nbsp;</span>Expectations for Collaboration</a></span></li></ul></li></ul></div>"
   ]
  },
  {
   "cell_type": "markdown",
   "id": "380988fe",
   "metadata": {},
   "source": [
    "# Robot Programming 1\n",
    "\n",
    "In this assignment, you will lay the groundwork for future work with the Romi robot in the lab. As you learned in ES103, we often conduct a quick experiment on a system as a way to help us scope a model of it. Once we have built a model, we evaluate that model's external validity by conducting more experiments. Notice how in [Reading 09](https://alexanderallenbrown.github.io/ES103_SP22_Students/Reading_09/Reading_09.html) for example, data drove both the beginning and the end of our modeling process.\n",
    "\n",
    "What follows from this is that in order to intelligently design a system to control the Romi, we need to understand how it moves. You will get comfortable with the robot's physical and simulated forms in this assignment while collecting data that will be valuable in building a dynamic model of the robot later.\n",
    "\n",
    "## Reading Assignment\n",
    "\n",
    "In completing this assignment, you are responsible for material in the following resources. You may read as much or as little as you need in order to complete the assignment. I acknowledge that some of you have different levels of experience with the topics on this list, so I have tried to make it comprehensive enough to ensure that everyone is on a similar page when beginning this assignment. Much of this may be review for you!\n",
    "\n",
    "1. [Python Resource](../01_Background_Resources/01C_Python_Resource.ipynb)\n",
    "2. [Arduino Resource](../01_Background_Resources/01D_Arduino_resource.ipynb)\n",
    "3. [Romi Resource](../02_Romi_Resources/02A_Romi_Resource.ipynb)\n",
    "4. You should have completed A01 (Webots Tutorials) before beginning this assignment.\n",
    "\n",
    "## Deliverables\n",
    "\n",
    "In completing these deliverables, be sure to work *inside* your shared Google Drive folder. Grading will involve looking in your Google Drive folder after the deadline and running/commenting on your code. If your code does not run as-is inside Google Drive, I will assume that the code never ran.\n",
    "\n",
    "1. (10 points) Write a program to collect \"step\" (off, then on) data for forward motion of the romi (both motors full voltage ahead). Collect 2 seconds of data; in the first second, the Romi's motors should be fully on. In the second second, the Romi's motors should be off and the Romi should be allowed to coast to a stop.\n",
    "    * Use Arduino to program the Romi directly. print encoder data to the serial monitor using a wired connection, and save the data to a time-stamped text file by copying and pasting.\n",
    "    * Use Webots to accomplish the same thing on a simulated Romi. Save the simulated Romi's encoder data to a time-stamped text file as well.\n",
    "2. (10 points) Write a program to collect \"step\" (one position, then another) data for each of the three servo motors on the Romi arm. This will result in three different but similar programs. Start at a \"neutral\" or \"normal\" position for each motor for the first second of data collection, then immediately command the motor to move a small amount while data are collected for another second. Collect Servo feedback in a timestamped text file.\n",
    "    * Use Arduino to program the Romi directly. print encoder data to the serial monitor using a wired connection, and save the data to a time-stamped text file by copying and pasting.\n",
    "    * Use Webots to accomplish the same thing on a simulated Romi. Save the simulated Romi's servo feedback data to a text file.\n",
    "3. (10 points) Write a Python (not MATLAB) program to plot the results of each of the experiments above. Make sure to properly label your plots and legends, and plot results in appropriate units. For deliverable 1, you should be plotting robot *velocity* over ground. For deliverable 2, you should be plotting servo (not arm or gripper) position in degrees or radians.\n",
    "4. (10 points) Summarize your results in a Google doc. You do not need to write much; just present your plots with any explanation they require (e.g. appropriate captions). No particular format is required.\n",
    "\n",
    "## Expectations for Collaboration\n",
    "\n",
    "In the classroom, we have 5 Romi robots that are set up exactly the same. You may work with a partner as you run your code and collect your data, but you need to write *your own code* independently and collect *your own* datasets. You may share conceptual ideas and help each other debug, but you may not copy each other's work. Your code must be your own, and your data must be your own. "
   ]
  },
  {
   "cell_type": "code",
   "execution_count": null,
   "id": "c2112d46",
   "metadata": {},
   "outputs": [],
   "source": []
  }
 ],
 "metadata": {
  "kernelspec": {
   "display_name": "Python 3 (ipykernel)",
   "language": "python",
   "name": "python3"
  },
  "language_info": {
   "codemirror_mode": {
    "name": "ipython",
    "version": 3
   },
   "file_extension": ".py",
   "mimetype": "text/x-python",
   "name": "python",
   "nbconvert_exporter": "python",
   "pygments_lexer": "ipython3",
   "version": "3.9.0"
  },
  "toc": {
   "base_numbering": 1,
   "nav_menu": {},
   "number_sections": true,
   "sideBar": true,
   "skip_h1_title": false,
   "title_cell": "Table of Contents",
   "title_sidebar": "Contents",
   "toc_cell": true,
   "toc_position": {},
   "toc_section_display": true,
   "toc_window_display": false
  }
 },
 "nbformat": 4,
 "nbformat_minor": 5
}
