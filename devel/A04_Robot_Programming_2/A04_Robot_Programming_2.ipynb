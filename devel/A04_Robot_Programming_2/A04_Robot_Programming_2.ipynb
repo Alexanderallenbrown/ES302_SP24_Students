{
 "cells": [
  {
   "cell_type": "markdown",
   "id": "086c021b",
   "metadata": {
    "toc": true
   },
   "source": [
    "<h1>Table of Contents<span class=\"tocSkip\"></span></h1>\n",
    "<div class=\"toc\"><ul class=\"toc-item\"><li><span><a href=\"#Robot-Programming-2:-Finite-State-Machines\" data-toc-modified-id=\"Robot-Programming-2:-Finite-State-Machines-1\"><span class=\"toc-item-num\">1&nbsp;&nbsp;</span>Robot Programming 2: Finite State Machines</a></span><ul class=\"toc-item\"><li><span><a href=\"#Goal\" data-toc-modified-id=\"Goal-1.1\"><span class=\"toc-item-num\">1.1&nbsp;&nbsp;</span>Goal</a></span></li><li><span><a href=\"#Reading-Assignment\" data-toc-modified-id=\"Reading-Assignment-1.2\"><span class=\"toc-item-num\">1.2&nbsp;&nbsp;</span>Reading Assignment</a></span></li><li><span><a href=\"#Robot-Setup\" data-toc-modified-id=\"Robot-Setup-1.3\"><span class=\"toc-item-num\">1.3&nbsp;&nbsp;</span>Robot Setup</a></span></li><li><span><a href=\"#Challenge\" data-toc-modified-id=\"Challenge-1.4\"><span class=\"toc-item-num\">1.4&nbsp;&nbsp;</span>Challenge</a></span></li></ul></li><li><span><a href=\"#Deliverables:-Due-Friday,-9/23/2022\" data-toc-modified-id=\"Deliverables:-Due-Friday,-9/23/2022-2\"><span class=\"toc-item-num\">2&nbsp;&nbsp;</span>Deliverables: Due Friday, 9/23/2022</a></span></li></ul></div>"
   ]
  },
  {
   "cell_type": "markdown",
   "id": "3f089c3d",
   "metadata": {},
   "source": [
    "# Robot Programming 2: Finite State Machines\n",
    "\n",
    "Robots that have complex repertoires of behavior need an overall governing structure that permits them to react to their environments appropriately. This can mean many different things, but in the case of the Romi robot, which is equipped with two wheels, a manipulator arm, and a proximity sensor, \"react to the environment appropriately\" might mean exploring the environment, seeking out certain objects, picking them up, and placing them in an appropriate secondary location. Maybe the Romi is picking weeds as part of a robotic farming application. Maybe it represents a mining robot, or a \"search and rescue\" robot.\n",
    "\n",
    "Whatever the case may be, the tasks that a robot like Romi can execute have to be coordinated according to what is happening around it. \n",
    "\n",
    "## Goal\n",
    "\n",
    "In this assignment, you will develop a system called a Finite State Machine to program the Romi to explore its environment without running into obstacles. We will save more complex behaviors for another time, but learning to coordinate Romi's behavior using a Finite State machine will set you up well for later assignments in this course."
   ]
  },
  {
   "cell_type": "markdown",
   "id": "11376b5e",
   "metadata": {},
   "source": [
    "## Reading Assignment\n",
    "\n",
    "To complete this assignment, you need to make explicit use of Finite State Machine (FSM) design. There are many ways to implement FSMs, but in order to make sure your code is readable and understandable by everyone in the class, you **will** use the implementation paradigm outlined in this reading assignment. You will need to read:\n",
    "\n",
    "1. [Textbook](https://nbviewer.org/github/Introduction-to-Autonomous-Robots/Introduction-to-Autonomous-Robots/blob/master/book-12-01-21-full.pdf) Section 11.2\n",
    "2. [ES302 Finite State Machine Resource](../03_FiniteStateMachines/03_FiniteStateMachines.ipynb)\n"
   ]
  },
  {
   "cell_type": "markdown",
   "id": "b79ff9a6",
   "metadata": {},
   "source": [
    "## Robot Setup\n",
    "\n",
    "clone or download the [ES302_Webots](https://github.com/Alexanderallenbrown/ES302_Webots) repository into your shared ES302_YourLastName Google Drive folder inside a subdirectory called `A04/`. Be sure to place a copy of the [ES302_Romi](https://github.com/Alexanderallenbrown/ES302_Romi) repository inside the `A04/ES302_Webots/controllers` subdirectory, **or** run the following command from git bash (or terminal, if you are on a mac/linux machine) from inside the ES302_Webots directory:\n",
    "\n",
    "```bash\n",
    "git submodule update --init\n",
    "```\n",
    "If you have any questions or concerns about setting up your webots environment for assignment 4, please ask. Once your environment is set up, open the Webots world file `ES302_A04.wbt` and open the controller file `A04_Starter.py`, which controls the \"follower\" robot. If you change the name of this controller, be sure to update the controller used by the \"follower\" Romi. The robots in their simulation environment for A04 are shown below.\n",
    "![image.png](attachment:image.png)\n"
   ]
  },
  {
   "cell_type": "markdown",
   "id": "144d90a0",
   "metadata": {},
   "source": [
    "This assignment world features two Romi robots. One has a bright LED attached to it, and it executes a simple \"explorer\" FSM, similar to the one we built as a class exercise. This is the \"leader\" Romi (shown left in image). The other Romi, the \"follower\" Romi (shown right in image), has two additional sensors added to it. The \"light sensors\" on the follower Romi, shown as yellow rays in the image above, return values from 0 to 1000, allowing you to compare their readings to determine whether the leader romi is to the follower's right, or left. Both Romis are equipped with the same distance sensor as the physical Romis we have in the ES302 lab, attached to the bottom of the gripper assembly. The rays from those sensors are shown in red/green in the image above.\n",
    "\n",
    "## Challenge\n",
    "\n",
    "Your challenge for this assignment is to create and implement a FSM for the follower Romi that:\n",
    "1. Allows the follower to maintain a distance of less than 0.35 meters between it and the \"leader\" Romi at steady state (roughly 2 minutes of simulation should be plenty to observe steady state). \n",
    "2. Avoids the robots becoming tangled or stuck. \"Stuck\" means that the two Romis are motionless (no turns or translation) for more than 10 seconds at a time. Small, brief tangles are likely inevitable.\n",
    "\n",
    "Exactly what approach you take to this FSM design is up to you. A short animation showing the type of behavior your FSM could manifest with an acceptable solution is shown below. Note that inside this animation, you can left-click to rotate the view, scroll to zoom, or right click to pan."
   ]
  },
  {
   "cell_type": "code",
   "execution_count": 1,
   "id": "d92b461b",
   "metadata": {
    "hide_input": true
   },
   "outputs": [
    {
     "data": {
      "text/html": [
       "<iframe id=\"inlineFrameExample\" title=\"Inline Frame Example\" width=\"1000\" height=\"700\" src=\"https://nbviewer.org/github/Alexanderallenbrown/ES302_Webots/blob/main/animations/ES302_A04.html\"> </iframe>\n"
      ],
      "text/plain": [
       "<IPython.core.display.HTML object>"
      ]
     },
     "metadata": {},
     "output_type": "display_data"
    }
   ],
   "source": [
    "%%html\n",
    "<iframe id=\"inlineFrameExample\" title=\"Inline Frame Example\" width=\"1000\" height=\"700\" src=\"https://nbviewer.org/github/Alexanderallenbrown/ES302_Webots/blob/main/animations/ES302_A04.html\"> </iframe>\n"
   ]
  },
  {
   "cell_type": "markdown",
   "id": "a96b6969",
   "metadata": {},
   "source": [
    "# Deliverables: Due Friday, 9/23/2022\n",
    "\n",
    "You will create a Google Doc inside your ES302_YourLastName shared folder under a subfolder called `A04/` with the following sections. This is not a \"report,\" so don't worry about length; all you need to do is present the information requested with enough explanation to indicate your level of understanding. You do not have to use IEEE two-column format, but all figures and tables should be captioned according to the IEEE style guide, all equations should be numbered, and any references you use (other than this assignment and course materials) should be cited appropriately.\n",
    "\n",
    "1. Introduction (5 points)\n",
    "    * Restate the challenge and explain your overall approach. Scope the model you're using in your approach-- here, \"scope\" means that you are explicitly calling out the boundary of the \"model\" you're using, and naming its \"ins\" (sources of energy, information, etc.), \"outs\" (ways in which the system exchanges energy or information with its environment), and \"stored\" quantities (what the system accumulates in terms of energy or information). \n",
    "2. FSM Design (10 points)\n",
    "    * Present your approach to choosing Boolean states for your FSM. Provide only enough narrative to indicate that this is your work and you understand it.\n",
    "    * Show a state transition diagram created using diagrams.net or another similar vector drawing program (no hand sketches)\n",
    "    * Present a complete state transition table for the diagram.\n",
    "3. Results (10 points)\n",
    "    * Include a link or [embed](https://officebeginner.com/gdocs/how-to-embed-youtube-video-in-google-docs/) a video of two minutes of simulation showing that your FSM satisfies the design requirements. Your video does not have to be uploaded to YouTube-- just include it in your Google Drive folder. Note that mp4 videos can be captured using Webots itself.\n",
    "    * Include a plot showing the distance between the two robots as a function of simulation time. The \"A04_Supervisor\" node will create a text file inside of its subfolder (ES302_Webots/controllers/A04_Supervisor/A04_Data.txt) that has the format expressed in its first line. Create a Python file that loads the data and produces a well-labeled, readable plot of distance (meters) vs. time (seconds).\n",
    "4. Discussion (5 points)\n",
    "    * *Briefly* discuss how well your approach worked. What went well? What are the limitations? Explicitly consider limitations associated with the environment, with the morphology of the Romis, and with their sensors.\n",
    "5. Appendices (supports score for prior sections)\n",
    "    * Include a bibliography (if applicable)\n",
    "    * Include google drive links to your source code for this assignment. I will be reviewing your code to ensure that it is consistent with your description and that it is your own work.\n",
    "    "
   ]
  },
  {
   "cell_type": "code",
   "execution_count": null,
   "id": "7af9f32f",
   "metadata": {},
   "outputs": [],
   "source": []
  }
 ],
 "metadata": {
  "kernelspec": {
   "display_name": "Python 3",
   "language": "python",
   "name": "python3"
  },
  "language_info": {
   "codemirror_mode": {
    "name": "ipython",
    "version": 3
   },
   "file_extension": ".py",
   "mimetype": "text/x-python",
   "name": "python",
   "nbconvert_exporter": "python",
   "pygments_lexer": "ipython3",
   "version": "3.7.5"
  },
  "toc": {
   "base_numbering": 1,
   "nav_menu": {},
   "number_sections": true,
   "sideBar": true,
   "skip_h1_title": false,
   "title_cell": "Table of Contents",
   "title_sidebar": "Contents",
   "toc_cell": true,
   "toc_position": {},
   "toc_section_display": true,
   "toc_window_display": false
  }
 },
 "nbformat": 4,
 "nbformat_minor": 5
}
