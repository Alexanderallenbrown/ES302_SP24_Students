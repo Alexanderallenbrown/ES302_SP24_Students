{
 "cells": [
  {
   "cell_type": "markdown",
   "id": "befe4894",
   "metadata": {
    "toc": true
   },
   "source": [
    "<h1>Table of Contents<span class=\"tocSkip\"></span></h1>\n",
    "<div class=\"toc\"><ul class=\"toc-item\"><li><span><a href=\"#Prerequisite-Reading\" data-toc-modified-id=\"Prerequisite-Reading-1\"><span class=\"toc-item-num\">1&nbsp;&nbsp;</span>Prerequisite Reading</a></span></li><li><span><a href=\"#Frames-of-Reference-(Coordinate-Systems)\" data-toc-modified-id=\"Frames-of-Reference-(Coordinate-Systems)-2\"><span class=\"toc-item-num\">2&nbsp;&nbsp;</span>Frames of Reference (Coordinate Systems)</a></span></li></ul></div>"
   ]
  },
  {
   "cell_type": "markdown",
   "id": "9913fda1",
   "metadata": {},
   "source": [
    "# Prerequisite Reading\n",
    "\n",
    "To supplement your understanding of this material, you should read Section 2.4 of the [textbook](https://nbviewer.org/github/Introduction-to-Autonomous-Robots/Introduction-to-Autonomous-Robots/blob/master/book-12-01-21-full.pdf). The material presented here is based on that section, abridged and modified for ES302."
   ]
  },
  {
   "cell_type": "markdown",
   "id": "da7537d1",
   "metadata": {},
   "source": [
    "# Frames of Reference (Coordinate Systems)\n",
    "\n",
    "Robots comprised of rigid links are said to have various \"frames of reference.\" These are coordinate systems attached to various moving links on a robot. A robot will often have useful \"frames\" attached to each of its degrees of freedom (see Section 2.3 of the text).\n",
    "\n",
    "Consider a mobile robot like a Romi that has a frame attached to its center of mass. Borrowing terminology from psychology, we will call this \"base frame\" for the Romi an \"egocentric\" frame. You will also commonly hear it called a \"body-fixed\" frame. The Romi can use cameras, distance sensors, LiDar sensors, etc. to perceive its environment relative to itself (ego) in this frame. Its motion (forward, backward, turns) is also easiest to describe in this frame.\n",
    "\n",
    "Romi's environment can also be described in a perspective-invariant frame. You'll often hear this called a \"fixed frame,\" or a \"global frame,\" or a \"Newtonian Frame.\" Again borrowing terminology from psychology, we will call this frame an \"Allocentric\" frame. Consider these two frames arranged as shown below."
   ]
  },
  {
   "cell_type": "code",
   "execution_count": null,
   "id": "aff02d4f",
   "metadata": {},
   "outputs": [],
   "source": []
  }
 ],
 "metadata": {
  "kernelspec": {
   "display_name": "Python 3",
   "language": "python",
   "name": "python3"
  },
  "language_info": {
   "codemirror_mode": {
    "name": "ipython",
    "version": 3
   },
   "file_extension": ".py",
   "mimetype": "text/x-python",
   "name": "python",
   "nbconvert_exporter": "python",
   "pygments_lexer": "ipython3",
   "version": "3.7.5"
  },
  "toc": {
   "base_numbering": 1,
   "nav_menu": {},
   "number_sections": true,
   "sideBar": true,
   "skip_h1_title": false,
   "title_cell": "Table of Contents",
   "title_sidebar": "Contents",
   "toc_cell": true,
   "toc_position": {},
   "toc_section_display": true,
   "toc_window_display": false
  }
 },
 "nbformat": 4,
 "nbformat_minor": 5
}
