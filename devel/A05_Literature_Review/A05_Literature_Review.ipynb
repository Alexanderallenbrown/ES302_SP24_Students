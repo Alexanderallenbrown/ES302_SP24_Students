{
 "cells": [
  {
   "cell_type": "markdown",
   "id": "7fdc63b2",
   "metadata": {
    "toc": true
   },
   "source": [
    "<h1>Table of Contents<span class=\"tocSkip\"></span></h1>\n",
    "<div class=\"toc\"><ul class=\"toc-item\"><li><span><a href=\"#Literature-Review:-Draft-due-Friday,-10/14/2022.-See-deliverables-for-interim-due-dates.\" data-toc-modified-id=\"Literature-Review:-Draft-due-Friday,-10/14/2022.-See-deliverables-for-interim-due-dates.-1\"><span class=\"toc-item-num\">1&nbsp;&nbsp;</span>Literature Review: Draft due Friday, 10/14/2022. See deliverables for interim due dates.</a></span><ul class=\"toc-item\"><li><span><a href=\"#Assigned-Reading\" data-toc-modified-id=\"Assigned-Reading-1.1\"><span class=\"toc-item-num\">1.1&nbsp;&nbsp;</span>Assigned Reading</a></span></li><li><span><a href=\"#Structure-of-a-literature-review\" data-toc-modified-id=\"Structure-of-a-literature-review-1.2\"><span class=\"toc-item-num\">1.2&nbsp;&nbsp;</span>Structure of a literature review</a></span></li><li><span><a href=\"#Characteristics-of-a-systematic-literature-review\" data-toc-modified-id=\"Characteristics-of-a-systematic-literature-review-1.3\"><span class=\"toc-item-num\">1.3&nbsp;&nbsp;</span>Characteristics of a systematic literature review</a></span><ul class=\"toc-item\"><li><span><a href=\"#A-clearly-defined-research-question-or-set-of-research-questions\" data-toc-modified-id=\"A-clearly-defined-research-question-or-set-of-research-questions-1.3.1\"><span class=\"toc-item-num\">1.3.1&nbsp;&nbsp;</span>A clearly defined research question or set of research questions</a></span></li><li><span><a href=\"#A-rigorous-search-of-the-literature-with-a-clear-and-robust-methodology\" data-toc-modified-id=\"A-rigorous-search-of-the-literature-with-a-clear-and-robust-methodology-1.3.2\"><span class=\"toc-item-num\">1.3.2&nbsp;&nbsp;</span>A rigorous search of the literature with a clear and robust methodology</a></span><ul class=\"toc-item\"><li><span><a href=\"#Your-Search-Methodology\" data-toc-modified-id=\"Your-Search-Methodology-1.3.2.1\"><span class=\"toc-item-num\">1.3.2.1&nbsp;&nbsp;</span>Your Search Methodology</a></span></li></ul></li><li><span><a href=\"#A-clear-set-of-specific-inclusion-and-exclusion-criteria\" data-toc-modified-id=\"A-clear-set-of-specific-inclusion-and-exclusion-criteria-1.3.3\"><span class=\"toc-item-num\">1.3.3&nbsp;&nbsp;</span>A clear set of specific inclusion and exclusion criteria</a></span><ul class=\"toc-item\"><li><span><a href=\"#Your-Screening-Process\" data-toc-modified-id=\"Your-Screening-Process-1.3.3.1\"><span class=\"toc-item-num\">1.3.3.1&nbsp;&nbsp;</span>Your Screening Process</a></span></li></ul></li><li><span><a href=\"#Critical-appraisal-of-included-studies,-including-data-extraction-(if-appropriate)\" data-toc-modified-id=\"Critical-appraisal-of-included-studies,-including-data-extraction-(if-appropriate)-1.3.4\"><span class=\"toc-item-num\">1.3.4&nbsp;&nbsp;</span>Critical appraisal of included studies, including data extraction (if appropriate)</a></span><ul class=\"toc-item\"><li><span><a href=\"#Your-Data-Collection-Process\" data-toc-modified-id=\"Your-Data-Collection-Process-1.3.4.1\"><span class=\"toc-item-num\">1.3.4.1&nbsp;&nbsp;</span>Your Data Collection Process</a></span></li></ul></li><li><span><a href=\"#Analysis-and-interpretation-of-results\" data-toc-modified-id=\"Analysis-and-interpretation-of-results-1.3.5\"><span class=\"toc-item-num\">1.3.5&nbsp;&nbsp;</span>Analysis and interpretation of results</a></span></li></ul></li></ul></li><li><span><a href=\"#Deliverables\" data-toc-modified-id=\"Deliverables-2\"><span class=\"toc-item-num\">2&nbsp;&nbsp;</span>Deliverables</a></span></li></ul></div>"
   ]
  },
  {
   "cell_type": "markdown",
   "id": "dbb1a033",
   "metadata": {},
   "source": [
    "# Literature Review: Draft due Friday, 10/14/2022. See deliverables for interim due dates.\n",
    "\n",
    "In ES302, you will work towards choosing a topic for a **final project** that fits the following criteria:\n",
    "\n",
    "1. Your topic should interest you!\n",
    "2. Your topic should result in either a simulation study (WeBots) or an experiment (equipment permitting) that shows proof-of-concept for an algorithm or method for making a robot, system/group of robots, or a system of robots and biological agents perform a task. If your proposed project includes any interaction with humans or animals, you may need approval from Lafayette College's Institutional Review Board ([IRB](https://irb.lafayette.edu/)) or Institutional Animal Care and Use Committee ([IACUC](https://iacuc.lafayette.edu/)), which may limit feasibility. Please discuss with me if you have any questions.\n",
    "3. Your topic should be relevant to current work in robotics. Looking at recent publications from conferences like [IROS](https://iros2022.org/) or [ICRA](https://www.icra2022.org/) can be very helpful in seeing what people are doing.\n",
    "4. Your topic should be in the sub-domains of mobile robots or robotic arms, and should be feasible to simulate in WeBots. This will allow you to leverage what you learn in ES302 as you complete your project. You should expect to need to learn some material that goes beyond what we study in class, but you should avoid topics that are too far outside the domain of ES302. \n",
    "\n",
    "If you have ideas but are not sure whether they fit the above criteria, please ask me!\n",
    "\n",
    "Before deciding on your topic for a final project in ES302, it is important that you acquaint yourself with the state of the art in the sub-field of robotics that most interests you. If you were interested in a novel approach to robot soccer, for example, you would need to spend a significant amount of time learning how roboticists already approach the game."
   ]
  },
  {
   "cell_type": "markdown",
   "id": "50c40f61",
   "metadata": {},
   "source": [
    "## Assigned Reading\n",
    "\n",
    "In preparation for this assignment, you should read and familiarize yourself with:\n",
    "\n",
    "* The rubric for this assignment (below) and the linked papers and documents.\n",
    "* The [Google Docs resource](../01_Background_Resources/01E_Google_Docs_Resources.ipynb) will help you with citations and formatting."
   ]
  },
  {
   "cell_type": "markdown",
   "id": "9643c760",
   "metadata": {},
   "source": [
    "## Structure of a literature review\n",
    "\n",
    "A good literature review can be organized different ways, but for ES302, I encourage you to break your review into the following sections, following the IEEE style guide:\n",
    "\n",
    "1. Abstract\n",
    "2. Introduction\n",
    "3. Methodology\n",
    "4. Results\n",
    "5. Discussion\n",
    "\n",
    "Details of what these sections should contain are presented below. "
   ]
  },
  {
   "cell_type": "markdown",
   "id": "c629c323",
   "metadata": {},
   "source": [
    "## Characteristics of a systematic literature review\n",
    "\n",
    "Documenting the state of the art in a particular sub-field is called a **literature review**. A good literature review has a few key features. This list has been adopted from [this report](https://nsufl.libguides.com/c.php?g=111860&p=6396694#:~:text=The%20key%20characteristics%20of%20a,results%3B%20and%20report%20for%20publication), which focuses on public health reviews but is reasonably complete for any field, and also based on [The PRISMA system](https://prisma-statement.org/), which aims to improve transparency and reproducibility in literature reviews and meta-analyses. \n",
    "\n",
    "Note that the methodological guidance for PRISMA (especially the [PRISMA checklist](https://prisma-statement.org/documents/PRISMA_2020_checklist.docx) may be very helpful in structuring your document. Not all of the items on the PRISMA checklist will apply to you; the sections below provide guidance on which pieces we will focus on, but be sure to ask if you are unsure.\n",
    "\n",
    "The subsections below are general characteristics of a good literature review; they are not a \"formula\" or template (the PRISMA checklist is much closer to that), but they describe elements of good systematic reviews that transcend disciplines and do not exclusively rely on the PRISMA system."
   ]
  },
  {
   "cell_type": "markdown",
   "id": "01ed61f2",
   "metadata": {},
   "source": [
    "### A clearly defined research question or set of research questions\n",
    "\n",
    "This should be more than just a broad topic. The best literature reviews ask a specific question. For example, in the 2021 review paper entitled [Cobots in Industry 4.0: A Roadmap for Future Practice Studies on Human–Robot Collaboration](https://ieeexplore.ieee.org/document/9490032/) by Weiss, Wortmeier, and Kubicek (2021), we find the following sentence in the authors' introduction:\n",
    "\n",
    "```\n",
    "However, like Palanque et al. [3], with respect to automation, we consider it timely to ask bigger-picture questions about cobots in Industry 4.0, namely, how will robot-supported work change sociotechnical dynamics in Industry 4.0, and how can we enable satisfying working conditions in hybrid human–cobot teams?\n",
    "```\n",
    "\n",
    "Here we notice that the authors are setting up their approach to the remainder of the review. They are asking a specific question about the future of their research area, which allows them to take the reader through the prior research on the topic while *keeping the research question in the reader's mind* the entire time. \n",
    "\n",
    "Having a specific research question helps guide a reader's expectations, and it helps scope the papers that will or will not be included in the rest of the document. Imagine a review paper that was entitled \"Robotics: A Review of Past Research.\" This paper title implies a research question that is too broad; to even approach an honest try at such a review, an author would need to include many thousands of papers. Scoping your research question is something that your instructor can help you with."
   ]
  },
  {
   "cell_type": "markdown",
   "id": "ac5410a9",
   "metadata": {},
   "source": [
    "### A rigorous search of the literature with a clear and robust methodology\n",
    "\n",
    "In the previous section, we mentioned a \"database search string\" that might yield results (papers) based on your research question. The act of performing a search of relevant databases (such as ieeexplore.ieee.org) requires you to formulate a search string that is likely to return results that are relevant to your research question.\n",
    "\n",
    "In [Robot-Based Intervention for Children With Autism Spectrum Disorder: A Systematic Literature Review](https://ieeexplore.ieee.org/document/9635826), the authors present us with their research questions (five of them :O )\n",
    "```\n",
    "[RQ1] Which robots are used in interventions for children\n",
    "with ASD?\n",
    "[RQ2] Which emotions are of interest in children with\n",
    "ASD?\n",
    "[RQ3] Which skills are addressed in interventions using\n",
    "robots?\n",
    "[RQ4] What are challenges in the interaction of robots with\n",
    "children with ASD?\n",
    "[RQ5] Are there any recommendations/lessons learned\n",
    "regarding the use of robots in interventions for children with ASD?\n",
    "```\n",
    "\n",
    "*NOTE: Your literature review for ES302 should **not** have five research questions. One or perhaps two would be more than adequate.*\n",
    "\n",
    "Bartl-Pokorny et al (2021) use these research questions to come up with a search string to enter into databases of academic literature in order to come up with a list of papers for possible inclusion. In some fields, authors are expected to present their exact search string(s) in the body of the review paper. This is not very common in robotics, but Bartl-Pokorny et al do give us some information about their methodology, and you should in your lit review for ES302 as well. On page 165435, we read:\n",
    "\n",
    "```\n",
    "The keywords defined were grouped into the clusters:\n",
    "1) related to emotions (emotion, affective, emotional,affect),\n",
    "2) related to children (children, child, young),\n",
    "3) related to autism (autism, ASD, ASC, autistic, pervasive\n",
    "developmental disorder),\n",
    "4) related to robots (robot, SAR, RAT, robotic, humanoid),\n",
    "5) related to therapy (intervention, learn, learning, teach, teaching, tutoring, therapy, coaching).\n",
    "\n",
    "The phrases were searched in title and topic fields available in all three search engines. Each scientific database has its own search engine resulting in a different query format. Thus, we had to slightly modify our search query to fit these requirements.\n",
    "```\n",
    "\n",
    "You will also note that the authors are explicit about which search engines they used, and when the searches were performed. Many review papers also limit searches by a date range (e.g. the past decade), and if used, these types of filters should be mentioned explicitly. The act of constructing good search strings also requires some attention. There are few resources geared specifically towards robotics, but University of Michigan has a [guide](https://guides.lib.umich.edu/c.php?g=283340&p=2126706) geared towards the life sciences that you may find helpful with some modifications.\n",
    "\n",
    "#### Your Search Methodology \n",
    "\n",
    "It's important to decide how you will proceed with your search *before* starting it. You can make revisions if you need to, but creating a protocol before beginning your search can help to avoid the \"mission creep\" that can come with finding cool articles that could send you off on a tangent! To help you, I have adapted a [Search Protocol](https://docs.google.com/document/d/1yUPo6m8n8l2TJcxALQBu0Mj_w9sPPPzN/edit?usp=sharing&ouid=106957628083942338325&rtpof=true&sd=true) document developed by [Elise Settanni](https://www.linkedin.com/in/elise-settanni/), M.Ed, BCBA for PRISMA-compliant meta-analyses and systematic reviews. Before starting your search, you will make a copy of this in your assignment folder and tailor it to your research question(s).\n",
    "\n",
    "In the text of your review, you should summarize the protocols you developed for the search process, in a level of detail similar to that used by Bartl-Pokorny et. al (2021). You should give the reader a clear idea of where you looked, when you looked, and how you looked for literature that may be relevant to your research question. It is important that you describe which databases you used, when you searched, and what search strings, keywords, and filters were applied. You should be explicit about how many records you found and from where.\n"
   ]
  },
  {
   "cell_type": "markdown",
   "id": "e2146e07",
   "metadata": {},
   "source": [
    "### A clear set of specific inclusion and exclusion criteria\n",
    "\n",
    "Once you have developed a research question and run a database search to find papers that may be relevant, it is important to formulate a plan for including or excluding papers that you have found. You may enter a search string into a database and have 1,000 results appear... but are all 1,000 of those really relevant? How will you know which ones to discuss in your review? \n",
    "\n",
    "One approach to this is to simply skim a paper's title and abstract, and \"go with your gut\" about whether it is relevant. However, that approach is not very principled, and can often lead to a review that either misses key research or includes irrelevant tangents. Having a clear set of inclusion criteria presented as part of your review adds clarity and transparency to your work. Calling these criteria out is more common in some fields (e.g. life sciences) than others (e.g. theoretical robotics or algorithmic fields), but you *will* call your criteria out specifically in this assignment.\n",
    "\n",
    "In Bartl-Pokorny et al. (2021), we find that the authors were very rigorous in describing how they decided to include or exclude a study that resulted from their database search.\n",
    "\n",
    "On page 165435, we read:\n",
    "\n",
    "```\n",
    "The paper selection process in each round was manual and consisted of two phases: selection by title and selection by abstract. Each paper was evaluated for its relevance to the eligibility criteria. The papers were evaluated on the threepoints scale: 0 – irrelevant, 1 – somehow relevant or unsure, 2 – surely/strongly relevant. The tagging was performed by four independent raters among authors of this paper. Further decisions were made based on the sum of scores. Papers scored 8, i.e. each rater scored 2, were taken to the next stage automatically. Papers scored less than 4 were excluded automatically. Papers with scores 4-7 went under screening to the next phase.\n",
    "```\n",
    "\n",
    "Bartl-Pokorny et. al used PRISMA as a structure for their review, and in the PRISMA checklist, the methodology section calls for authors to \"Specify the methods used to decide whether a study met the inclusion criteria of the review, including how many reviewers screened each record and each report retrieved, whether they worked independently, and if applicable, details of automation tools used in the process.\"\n",
    "\n",
    "#### Your Screening Process\n",
    "\n",
    "For your assignment, having a spreadsheet in which you score papers based on relevance to your research question(s) in a similar fashion will help you decide which papers to read in more detail (and perhaps ultimately include) and which you can exclude out of hand. You can give each paper recovered by your search protocol a score for relevance to your research question(s) based on:\n",
    "\n",
    "1. The title and abstract. If it passes muster here, you can screen it based on:\n",
    "3. A full read of the paper.\n",
    "\n",
    "To help you with your article screening for inclusion, I have adapted documents developed by Elise Settanni, M.Ed, BCBA for PRISMA-compliant meta-analyses and systematic reviews. You will copy these into your assignment folder and adapt them for your use:\n",
    "\n",
    "1. [Title/Abstract Screening Protocol](https://docs.google.com/document/d/1uNjKSp5FhWa23_Vxh1d7Rp9USSNZCqFU/edit?usp=sharing&ouid=106957628083942338325&rtpof=true&sd=true)\n",
    "    * A [spreadsheet](https://docs.google.com/spreadsheets/d/1XbBE_aUsMl0N8cRhR4CWP3q9yP7D0V6S6moH9FfH3oE/edit?usp=sharing) you can use to implement this protocol\n",
    "2. [Full Text Screening Protocol](https://docs.google.com/document/d/1QdQEbeSEY0my5YXuIJWxKfBSmw-Dtw8I/edit?usp=sharing&ouid=106957628083942338325&rtpof=true&sd=true)\n",
    "    * A [spreadsheet](https://docs.google.com/spreadsheets/d/1Vd7zuHLURoPsQKRddosJ2HMyJoZNdW48g-RAQc2aEGc/edit?usp=sharing) you can use to implement this protocol\n",
    "    \n",
    "In the text of your review document, you should summarize these protocols at an appropriate level of detail."
   ]
  },
  {
   "cell_type": "markdown",
   "id": "b715695c",
   "metadata": {},
   "source": [
    "### Critical appraisal of included studies, including data extraction (if appropriate)\n",
    "\n",
    "Once the reader has been acquainted with your methodology, it is time to present what you have found in the literature. The detail with which you \"critically appraise\" studies in a literature review depends a lot on the field. At your current level of experience in robotics, you may not be able to present a critical review of the methodologies in the papers you find. Using the [PRISMA checklist](https://prisma-statement.org/documents/PRISMA_2020_checklist.docx) as our guide, we do find some items that you can include as you discuss each study you found:\n",
    "\n",
    "9.\tSpecify the methods used to collect data from reports, including how many reviewers collected data from each report, whether they worked independently, any processes for obtaining or confirming data from study investigators, and if applicable, details of automation tools used in the process.\n",
    "10. (a)\tList and define all outcomes for which data were sought. Specify whether all results that were compatible with each outcome domain in each study were sought (e.g. for all measures, time points, analyses), and if not, the methods used to decide which results to collect.  (b)\tList and define all other variables for which data were sought (e.g. participant and intervention characteristics, funding sources). Describe any assumptions made about any missing or unclear information.\t\n",
    "17.\tCite each included study and present its characteristics.\n",
    "\n",
    "Items 9 and 10 should be described in your lit review's \"methods\" section, and item 17 should be described in its \"results\" section. Note that item 9 is about how you, the researcher, extracted any relevant data from the articles, not about what data the articles present.\n",
    "\n",
    "Items 9 and 10 in the PRISMA checklist are suited more to life sciences studies than studies in robotics, but you might collect things like \"swarm size\" in a swarm robotics review, and it might be collected simply by \"recording swarm size from study methodology, and recording the swarm size in a spreadsheet.\" You might be interested in what type of robot was used (tracked, 2-wheeled, etc.) in the study. You might be interested in what type of sensors a robot had (camera, LIDAR, infra-red, etc). Any quantities of interest that stem from your research question(s) should be extracted from the papers that meet your inclusion criteria. In addressing the study characteristics (item 17), you may want to organize your results into sub-sections as appropriate (see Bartl-Pokorny for an example). \n",
    "\n",
    "In general, you should be able to summarize the aims, methods, and results of each study you find in 1 sentence for each (aims, methods, results). You can then write a sentence or so describing the study in terms of each of the data items you extract from it. You can also write more about a study if there are interesting analyses or comparisons to be made with others that you found.\n",
    "\n",
    "Note that PRISMA is designed to support both systematic literature reviews and meta-analyses, which are like systematic reviews but go a step further and extract data from prior studies to perform summary statistics on the body of work. This is **not** what we are doing in ES302, so many of the items on the PRISMA checklist relating to data extraction and statistics do not apply. However, *some* datat collection from the articles you include could be helpful in answering your research questions.\n",
    "\n",
    "#### Your Data Collection Process\n",
    "\n",
    "Study your search protocol and research questions. What elements of the studies returned by your search would be helpful to record? Pick a set of \"metrics\" that help describe the study and its results. Extract these from each study that has passed your screening process. Develop a spreadsheet to track the studies' common metrics. Following the example above, if you were tracking \"swarm size\" for a swarm robotics paper, you would have a column in your data extraction spreadsheet called \"swarm size.\" Some studies may not report swarm size at all, and counting the number of studies in which swarm size was not reported is also very useful for analyzing the body of literature as a whole. I have provided a template spreadsheet you can copy and use [here](https://docs.google.com/spreadsheets/d/16sO_KeU9hv9iw2iQywzNXMG_4yD6kJvuGW9lhGXTmBk/edit?usp=sharing).\n",
    "\n",
    "In your paper, be sure to describe what you collected and why in your methodology section. Then, present a summary of each included study and summarize the studies' metrics in the results section."
   ]
  },
  {
   "cell_type": "markdown",
   "id": "3c20ae4b",
   "metadata": {},
   "source": [
    "### Analysis and interpretation of results\n",
    "\n",
    "This is where you synthesize what you've learned from the results of your search and the summaries you provided for each included study. The [PRISMA checklist](https://prisma-statement.org/documents/PRISMA_2020_checklist.docx) includes helpful guidance with the following items under 23:\n",
    "\n",
    "```\n",
    "23a.\tProvide a general interpretation of the results in the context of other evidence.\t\n",
    "23b.\tDiscuss any limitations of the evidence included in the review.\t\n",
    "23c.\tDiscuss any limitations of the review processes used.\t\n",
    "23d.\tDiscuss implications of the results for practice, policy, and future research.\t\n",
    "```\n",
    "\n",
    "23d May be the most important for ES302. Your review began with a research question or maybe even two. Did you answer your question(s) with the search you did? Did you find a gap in the literature that you might be able to fill using a simulation study or an experiment? Note that this assignment leads into a project proposal; You should be naturally using this assignment as a way to discover where your efforts for the rest of the semester will be best spent."
   ]
  },
  {
   "cell_type": "markdown",
   "id": "9d4f5a86",
   "metadata": {},
   "source": [
    "# Deliverables\n",
    "\n",
    "Your work for this assignment should be captured in its entirety on Google Drive in your ES302_YourLastName shared folder under a subfolder called `A05`. \n",
    "**You will provide:**\n",
    "\n",
    "1. A draft research question or set of research questions and a search protocol document, including Boolean search string (**initial draft due 9/16/2022**)\n",
    "2. A draft abstract and full-text screening protocol (**initial draft due 9/23/2022**)\n",
    "3. A draft list of included articles (**initial list due 9/30/2022**)\n",
    "4. Articles included are coded for any data extraction (**initial draft due 9/30/2022**)\n",
    "5. A properly formatted (IEEE) draft of your literature review. Your document should conform to the IEEE style manual. This includes citation and bibliography formatting. **due 10/14/2022**\n",
    "\n",
    "You will be revising your draft (due date TBD) to incorporate both instructor and peer feedback."
   ]
  },
  {
   "cell_type": "code",
   "execution_count": null,
   "id": "04b19d3b",
   "metadata": {},
   "outputs": [],
   "source": []
  }
 ],
 "metadata": {
  "kernelspec": {
   "display_name": "Python 3",
   "language": "python",
   "name": "python3"
  },
  "language_info": {
   "codemirror_mode": {
    "name": "ipython",
    "version": 3
   },
   "file_extension": ".py",
   "mimetype": "text/x-python",
   "name": "python",
   "nbconvert_exporter": "python",
   "pygments_lexer": "ipython3",
   "version": "3.7.5"
  },
  "toc": {
   "base_numbering": 1,
   "nav_menu": {},
   "number_sections": true,
   "sideBar": true,
   "skip_h1_title": false,
   "title_cell": "Table of Contents",
   "title_sidebar": "Contents",
   "toc_cell": true,
   "toc_position": {},
   "toc_section_display": true,
   "toc_window_display": false
  }
 },
 "nbformat": 4,
 "nbformat_minor": 5
}
