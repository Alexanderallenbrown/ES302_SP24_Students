{
 "cells": [
  {
   "cell_type": "markdown",
   "id": "95ccd66c",
   "metadata": {
    "toc": true
   },
   "source": [
    "<h1>Table of Contents<span class=\"tocSkip\"></span></h1>\n",
    "<div class=\"toc\"><ul class=\"toc-item\"><li><span><a href=\"#Final-Project-Poster-and-Report\" data-toc-modified-id=\"Final-Project-Poster-and-Report-1\"><span class=\"toc-item-num\">1&nbsp;&nbsp;</span>Final Project Poster and Report</a></span><ul class=\"toc-item\"><li><span><a href=\"#Final-Paper:-Due-December-16,-2022.-No-Extensions!\" data-toc-modified-id=\"Final-Paper:-Due-December-16,-2022.-No-Extensions!-1.1\"><span class=\"toc-item-num\">1.1&nbsp;&nbsp;</span>Final Paper: Due December 16, 2022. <em>No Extensions!</em></a></span><ul class=\"toc-item\"><li><span><a href=\"#Demonstration-(multimedia-requirement)\" data-toc-modified-id=\"Demonstration-(multimedia-requirement)-1.1.1\"><span class=\"toc-item-num\">1.1.1&nbsp;&nbsp;</span>Demonstration (multimedia requirement)</a></span></li><li><span><a href=\"#Expectations-for-paper-depth-and-scope\" data-toc-modified-id=\"Expectations-for-paper-depth-and-scope-1.1.2\"><span class=\"toc-item-num\">1.1.2&nbsp;&nbsp;</span>Expectations for paper depth and scope</a></span></li><li><span><a href=\"#Expectations-for-graphical-communication\" data-toc-modified-id=\"Expectations-for-graphical-communication-1.1.3\"><span class=\"toc-item-num\">1.1.3&nbsp;&nbsp;</span>Expectations for graphical communication</a></span></li><li><span><a href=\"#Grading\" data-toc-modified-id=\"Grading-1.1.4\"><span class=\"toc-item-num\">1.1.4&nbsp;&nbsp;</span>Grading</a></span></li></ul></li><li><span><a href=\"#Poster\" data-toc-modified-id=\"Poster-1.2\"><span class=\"toc-item-num\">1.2&nbsp;&nbsp;</span>Poster</a></span><ul class=\"toc-item\"><li><span><a href=\"#Format\" data-toc-modified-id=\"Format-1.2.1\"><span class=\"toc-item-num\">1.2.1&nbsp;&nbsp;</span>Format</a></span></li><li><span><a href=\"#Creating-an-effective-poster\" data-toc-modified-id=\"Creating-an-effective-poster-1.2.2\"><span class=\"toc-item-num\">1.2.2&nbsp;&nbsp;</span>Creating an effective poster</a></span></li><li><span><a href=\"#Grading\" data-toc-modified-id=\"Grading-1.2.3\"><span class=\"toc-item-num\">1.2.3&nbsp;&nbsp;</span>Grading</a></span></li></ul></li></ul></li><li><span><a href=\"#Key-Elements-of-a-good-technical-publication-(poster-or-paper)\" data-toc-modified-id=\"Key-Elements-of-a-good-technical-publication-(poster-or-paper)-2\"><span class=\"toc-item-num\">2&nbsp;&nbsp;</span>Key Elements of a good technical publication (poster or paper)</a></span><ul class=\"toc-item\"><li><span><a href=\"#Title-and-Abstract\" data-toc-modified-id=\"Title-and-Abstract-2.1\"><span class=\"toc-item-num\">2.1&nbsp;&nbsp;</span>Title and Abstract</a></span><ul class=\"toc-item\"><li><span><a href=\"#Title\" data-toc-modified-id=\"Title-2.1.1\"><span class=\"toc-item-num\">2.1.1&nbsp;&nbsp;</span>Title</a></span></li><li><span><a href=\"#Abstract\" data-toc-modified-id=\"Abstract-2.1.2\"><span class=\"toc-item-num\">2.1.2&nbsp;&nbsp;</span>Abstract</a></span></li></ul></li><li><span><a href=\"#Introduction:-Background-and-Motivation\" data-toc-modified-id=\"Introduction:-Background-and-Motivation-2.2\"><span class=\"toc-item-num\">2.2&nbsp;&nbsp;</span>Introduction: Background and Motivation</a></span></li><li><span><a href=\"#Prior-Work-(Literature-Review)\" data-toc-modified-id=\"Prior-Work-(Literature-Review)-2.3\"><span class=\"toc-item-num\">2.3&nbsp;&nbsp;</span>Prior Work (Literature Review)</a></span></li><li><span><a href=\"#Methodology\" data-toc-modified-id=\"Methodology-2.4\"><span class=\"toc-item-num\">2.4&nbsp;&nbsp;</span>Methodology</a></span></li><li><span><a href=\"#Results\" data-toc-modified-id=\"Results-2.5\"><span class=\"toc-item-num\">2.5&nbsp;&nbsp;</span>Results</a></span></li><li><span><a href=\"#Discussion\" data-toc-modified-id=\"Discussion-2.6\"><span class=\"toc-item-num\">2.6&nbsp;&nbsp;</span>Discussion</a></span></li><li><span><a href=\"#Conclusions-and-Future-Work\" data-toc-modified-id=\"Conclusions-and-Future-Work-2.7\"><span class=\"toc-item-num\">2.7&nbsp;&nbsp;</span>Conclusions and Future Work</a></span></li></ul></li></ul></div>"
   ]
  },
  {
   "cell_type": "markdown",
   "id": "9a17d0b0",
   "metadata": {},
   "source": [
    "# Final Project Poster and Report\n",
    "\n",
    "Throughout this semester, you have been digging deep into the literature on a topic that you find important, relevant, and exciting in the field of robotics. Now, it's time to put the proposal you submitted into practice, and perform an experiment or two to answer your research question. This research question is **not** the same as the one you posed in your literature review. This time, the question is about whether something is possible. Your final project should answer that question!\n",
    "\n",
    "This is your chance to show the utility of what you've learned this semester in lieu of a final exam. In addition to your paper, you will also have the opportunity to (and are required to) present your work to your peers at the ME497 joint poster session **from 8-11AM on Wednesday, December 12 in the Kamine Gym.**"
   ]
  },
  {
   "cell_type": "markdown",
   "id": "e2b629a5",
   "metadata": {},
   "source": [
    "## Final Paper: Due December 16, 2022. *No Extensions!*\n",
    "\n",
    "You will write and format your paper as if you're submitting it to the [IEEE Transactions on Robotics](https://www.ieee-ras.org/publications/t-ro/information-for-authors) journal as a \"regular paper.\" The journal allows submissions up to 20 pages long, but charges extra for papers longer than 12 pages in IEEE two-column format, so 12 as an upper limit inclusive of tables, equations, figures, and other graphics. Note that first person and/or the \"royal we\" are not considered acceptable in this journal.\n",
    "\n",
    "Do **not** use others' graphics in your submission. All ideas, software libraries, and text that aren't your own must be cited, but concepts that you develop from the ground up do not have to be cited. For example, if you develop a Jacobian for your robot and you explain what it is, this does not need to be (and should not be) something you cite if you show all of the steps. Please avoid citing ES302 notes, and instead summarize any relevant derivations yourself.\n",
    "\n",
    "You have been reading lots of papers in the robotics literature this semester, so feel free to use strong papers you've found to help you develop your own paper's tone, style, and organization. The categories below summarizing \"key elements of a good technical paper\" can also be used as section headings.\n",
    "\n",
    "### Demonstration (multimedia requirement)\n",
    "\n",
    "You will note that in the IEEE transactions on Robotics guidelines for authors, multimedia supplements to a paper are encouraged. You will, as part of your final paper submission, need to submit a video showing your study's key results (either in simulation or physical experiment). This does not have to be a fancy edit, but it does have to support your paper's conclusions and should be referenced in the text of the paper. www.osf.io offers an archival way to host videos and datasets, but you can also link to a publicly shared video on Google Drive, as long as that video is hosted in your ES302 folder. Do not host videos on your \"My Drive,\" as these will disappear after you graduate.\n",
    "\n",
    "### Expectations for paper depth and scope\n",
    "\n",
    "Like a peer reviewer for IEEE Transactions on Robotics, I will not be combing your source code when evaluating your final project. This means that the paper and video must stand alone in explaining your work. This means that you should be providing enough detail in the text of your paper for me to understand the technical details of your approach. Feel free to reach out or share drafts of sections if you'd like advanced feedback on your level of detail; as a rule of thumb, someone reasonably familiar with key concepts in robotics (kinematics, dynamics, path planning, perception & sensing) should be able to reproduce your experiment based on your paper. This means that key details about physical and simulation parameters must be communicated along with equations, coordinate frames, and anything else that would be required for someone to build upon your experiment.\n",
    "\n",
    "### Expectations for graphical communication\n",
    "\n",
    "A key feature of a good paper is good graphics and figures. Please budget plenty of time to develop graphics and figures that help communicate your ideas, especially when it comes to explaining coordinate systems, maps, path planning, etc.\n",
    "\n",
    "My preferred tool for you all to use is an online diagram tool called www.diagrams.net. This tool offers a way to produce vector, raster, and combined graphics quickly. It even lets you include LaTeX code in a figure for mathematical symbols. I've even used it to produce graphics for my own publications; see [this paper](https://link.springer.com/article/10.1007/s00422-021-00885-7) for an example.\n",
    "\n",
    "Beyond explanatory graphics, please make sure your figures look professional and are properly labeled and captioned. I am happy to help you with any of this, but please ensure that what you include in your paper is something you'd be happy with the world seeing in 10 years when you're a famous roboticist.\n",
    "\n",
    "### Grading\n",
    "\n",
    "The paper you produce will be graded on a 60-point scale like your literature review and your project proposal. The demonstration video will be combined with your poster score to represent 8% of your final grade as per the syllabus."
   ]
  },
  {
   "cell_type": "markdown",
   "id": "b183ee3e",
   "metadata": {},
   "source": [
    "## Poster\n",
    "\n",
    "In addition to your final project paper, you will also present your work to your engineering division peers at the joint poster session on Wednesday, December 14 from 8-11 in the Kamine gym. The poster you will prepare is for a \"curated poster session,\" meaning that the poster should provide graphical support for a short talk you'll give to those walking by, but it should **not** be a completely stand-alone document.\n",
    "\n",
    "You will upload your poster in PDF form by midnight on Sunday, December 11, 2022 to [this folder](https://drive.google.com/drive/folders/13342NU3lmftQ5xsfuaouk3RlVsTSswOQ?usp=share_link). There will be no extensions or exceptions. You will receive a zero for the poster presentation if your paper is not uploaded by the deadline.\n",
    "\n",
    "You may also bring a phone, tablet, computer, or live demo to support your poster. Please let me know what your needs are for this as we get closer.\n",
    "\n",
    "### Format\n",
    "\n",
    "The format of your poster is up to you, but it should be 48\"x36\" in size. You can and should prepare your poster using Google Slides by creating a custom slide size. Using Google Slides will allow you to show me drafts and get feedback to improve your poster before submitting.\n",
    "\n",
    "Be absolutely certain that your poster uses graphics that will not appear grainy when printed at full scale. If you need help with this, let me know. \n",
    "\n",
    "### Creating an effective poster\n",
    "\n",
    "Looking around on YouTube and using Google, you'll find a myriad of resources that will help you make good decisions about your poster design. Some of my favorite links are below:\n",
    "\n",
    "* https://www.animateyour.science/post/best-examples-of-scientific-posters\n",
    "* https://urc.ucdavis.edu/sites/g/files/dgvnsk3561/files/local_resources/documents/pdf_documents/How_To_Make_an_Effective_Poster2.pdf\n",
    "\n",
    "I am always available to provide feedback on poster design choices.\n",
    "\n",
    "### Grading\n",
    "\n",
    "Your poster and accompanying presentation will be graded on the following criteria:\n",
    "\n",
    "* Visual Appearance\n",
    "    - Balance of figures and text\n",
    "    - Quality of graphics\n",
    "    - Layout, Color Choices, and Design capture attention\n",
    "* Organization and Flow\n",
    "    - Poster layout allows audience to follow your work\n",
    "    - background, methodology, key results, and conclusions are presented effectively\n",
    "* Oral Presentation\n",
    "    - Knowledgeable, organized, concise description of project\n",
    "    - Technical content scoped to the audience (engineering division peers/professors)\n",
    " "
   ]
  },
  {
   "cell_type": "markdown",
   "id": "e20e0730",
   "metadata": {},
   "source": [
    "# Key Elements of a good technical publication (poster or paper)\n",
    "\n",
    "In this section, I've provided some helpful hints to make you successful as you build your final project report and poster. These aren't comprehensive guides, but they do touch on key things I'll be looking for as I grade your work."
   ]
  },
  {
   "cell_type": "markdown",
   "id": "521c90ff",
   "metadata": {},
   "source": [
    "## Title and Abstract\n",
    "\n",
    "### Title\n",
    "\n",
    "A good title is descriptive, but not unnecessarily cheeky or stuffed with jargon. Consider Assignment 9. A title for a paper summarizing assignment 9 might be:\n",
    "\n",
    "* \"Path Planning, Grasping, and Control in a Known Environment using the Romi Robot and Webots Simulator\"\n",
    "\n",
    "While we could argue about whether this title is too long, it does communicate a lot to the potential reader about what's inside. This is key; being too vague is problematic beecause the paper can get missed. Being too specific is problematic because the title gets long very quickly.\n",
    "\n",
    "University of California Irvine (UCI) has a nice page on creating a good title [here](https://guides.lib.uci.edu/c.php?g=334338&p=2249904).\n",
    "\n",
    "### Abstract\n",
    "\n",
    "A good scientific abstract summarizes a paper's motivation, methodology, key results, and conclusions in 100 words or so. This should be your goal. Be professional, terse, and informative. The NIH provides some guidelines for good abstracts [here](https://www.ncbi.nlm.nih.gov/pmc/articles/PMC3136027/), although they are tailored for life sciences. UCI has a nice concise set of guidelines [here](https://guides.lib.uci.edu/c.php?g=334338&p=2249902) that may be easier to digest."
   ]
  },
  {
   "cell_type": "markdown",
   "id": "78d996f1",
   "metadata": {},
   "source": [
    "## Introduction: Background and Motivation\n",
    "\n",
    "The introduction section of a paper, or the \"Background and Motivation\" section of a poster, are there to communicate the *why* of your work. **Do not make the topic about you.** Think back to Assignment 1-- your topic has broad implications, and is important for reasons that are bigger than your own development as an engineer or your time in this class. That is the case you need to make in this section. Use 1-3 key references to help make your point, as you did in your project proposal.\n",
    "\n",
    "Then, it's time to pose your research question. This can either be literally written in as a question in your paper/poster, or you can phrase it in terms of what the paper/poster will show the reader.\n",
    "\n",
    "Consider Assignment 9's prompt. The research question we would be asking if we were to write a paper based on Assignment 9 could be something like:\n",
    "\n",
    ">\"Can a Romi simulated in the Webots environment retrieve a key object and return it to a start location?\"\n",
    "\n",
    "Which we could pose without a literal question by writing:\n",
    "\n",
    ">\"This paper demonstrates the use of Dijkstra's Algorithm, Proportional Feedback Control, and basic inverse kinematics to make a Romi robot find and retrieve a ball in the Webots simulation environment.\"\n",
    "\n",
    "The research question should be posed at the end of your introduction section. \n",
    "\n",
    "UCI has a nice page on writing a good introduction section [here](https://guides.lib.uci.edu/c.php?g=334338&p=2249903)."
   ]
  },
  {
   "cell_type": "markdown",
   "id": "fff6292f",
   "metadata": {},
   "source": [
    "## Prior Work (Literature Review)\n",
    "\n",
    "Here, you need to explain in detail how your work fits into the body of literature in your field. This should be a compact version of your literature review that receives updates as needed to contextualize your project in terms of what other papers are out there. Even if you're doing something that \"has been done\" before, there is likely something novel about your particular experimental setup or approach, even if it is \"this type of experiment has never been performed in the WeBots simulator.\" At the conclusion of this section, you should be able to make a statement about how your work will fill a gap in the literature, so be sure that your edits to your literature review make this case without disrupting the flow of the paper.\n",
    "\n",
    "The literature review section is often NOT present in a poster; instead, very relevant references *only* are cited on a poster. Literature reviews tend to be text-heavy, which is usually not helpful in a poster format."
   ]
  },
  {
   "cell_type": "markdown",
   "id": "9a8afaf6",
   "metadata": {},
   "source": [
    "## Methodology\n",
    "\n",
    "This section needs to provide enough details about the experiment you are conducting and the algorithms you're developing for the robot so that someone \"fluent in the art\" could reproduce your work. You also need to explain **why** you set up your experiment the way you did.\n",
    "\n",
    "If you developed a model for your robot, you need to summarize its equations of motion and the physical parameters/dimensions/components/etc. that make up the robot. \n",
    "\n",
    "If you developed a new robot, drawings, dimensions, etc. will be important in communicating its embodiment to the reader. If the robot is physically real, you must also explain how it processes information, what sensors/actuators/hardware it uses, and how it communicates and stores data.\n",
    "\n",
    "If you used forward or inverse kinematic equations to predict or execute robot motion, these equations need to be typeset, numbered, and discussed in your text.\n",
    "\n",
    "If your robot used an FSM to guide its behavior, the accompanying state transition diagram and table are the bare minimum for effective communication. These should be discussed in the text.\n",
    "\n",
    "If you used sensors and/or accompanying algorithms for your robot to detect obejcts, these need to be summarized and algorithms you took from the literature need to be properly cited.\n",
    "\n",
    "If you ran a simulation or physical experiment, details like timestep, parameters, length and number of simulations, and other parameters needed to reproduce your work are all important to communicate. You also need to **justify** these experiment design choices. Annotated graphics explaining the simulation setup (and even snapshots in time) are often helpful here.\n",
    "\n",
    "Above all, this section needs to make clear **what the experiments and/or simulations were intended to show** so that the reader is prepared to see and interpret results. Be sure to cover:\n",
    "* How results were generated.\n",
    "* How a reader should know that the experiment is internally valid\n",
    "* How the reader should assess your evaluation of the experiment's external validity\n",
    "* Why you're using the methodology you're using\n",
    "* Why you're using the data analysis techniques you'll use (statistics, etc)\n",
    "\n",
    "UCI has a nice page on writing a good methods section [here](https://guides.lib.uci.edu/c.php?g=334338&p=2249905)"
   ]
  },
  {
   "cell_type": "markdown",
   "id": "51c61260",
   "metadata": {},
   "source": [
    "## Results\n",
    "\n",
    "Key results from your simulations go here, without excess analysis or discussion. Present plots that are thoughtfully prepared and communicate why you are showing the reader the results that you're showing. This section should be figure-heavy, but captions alone are not enough. The text should explain what the reader is looking at in each figure and **why.**\n",
    "\n",
    "UCI has a nice page on writing a good results section [here](https://guides.lib.uci.edu/c.php?g=334338&p=2249906)."
   ]
  },
  {
   "cell_type": "markdown",
   "id": "66b26b43",
   "metadata": {},
   "source": [
    "## Discussion\n",
    "\n",
    "In this section, you must interpret what you presented in the results section. Evidence by itself, or with a \"the data match my simulation reasonably well,\" is not enough. Help the reader see how your results answer your research question, pointing out relationships between the results you presented. Point out what didn't work so well. Point out how your results compare with prior work in the field.\n",
    "\n",
    "UCI has a good page on how to write a discussion section [here](https://guides.lib.uci.edu/c.php?g=334338&p=2249903).\n"
   ]
  },
  {
   "cell_type": "markdown",
   "id": "96b27941",
   "metadata": {},
   "source": [
    "## Conclusions and Future Work\n",
    "\n",
    "In this section, summarize the main takeaways from your work, noting any limitations. Suggest future extensions of your study based on your results and discussion. Normally, this section is brief in a paper (about 1-3 paragraphs) and even more brief if included on a poster (1-2 sentences maximum, or a few bullet points)."
   ]
  },
  {
   "cell_type": "code",
   "execution_count": null,
   "id": "a331c593",
   "metadata": {},
   "outputs": [],
   "source": []
  }
 ],
 "metadata": {
  "kernelspec": {
   "display_name": "Python 3",
   "language": "python",
   "name": "python3"
  },
  "language_info": {
   "codemirror_mode": {
    "name": "ipython",
    "version": 3
   },
   "file_extension": ".py",
   "mimetype": "text/x-python",
   "name": "python",
   "nbconvert_exporter": "python",
   "pygments_lexer": "ipython3",
   "version": "3.7.5"
  },
  "toc": {
   "base_numbering": 1,
   "nav_menu": {},
   "number_sections": true,
   "sideBar": true,
   "skip_h1_title": false,
   "title_cell": "Table of Contents",
   "title_sidebar": "Contents",
   "toc_cell": true,
   "toc_position": {},
   "toc_section_display": true,
   "toc_window_display": false
  }
 },
 "nbformat": 4,
 "nbformat_minor": 5
}
